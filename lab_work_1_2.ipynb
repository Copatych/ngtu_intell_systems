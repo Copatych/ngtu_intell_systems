{
 "cells": [
  {
   "cell_type": "markdown",
   "metadata": {},
   "source": [
    "# Лабораторные   работы   1-2 \n",
    "# «Разработка   рекомендательного   сервиса» \n",
    "\n",
    "Выполнил: xxx xxx xxxович, Группа xxx, вариант 5\n",
    "\n",
    "Цель работы:\n",
    " 1. Изучить возможности процедур работы с данными с использованием языка разработки Python \n",
    " 2. Разработать элементы функций рекомендательного сервиса на основе метода коллаборативной фильтрации "
   ]
  },
  {
   "cell_type": "code",
   "execution_count": 1,
   "metadata": {},
   "outputs": [],
   "source": [
    "import pandas as pd\n",
    "import numpy as np\n",
    "import matplotlib.pyplot as plt\n",
    "\n",
    "#pretty plots\n",
    "import seaborn as sns\n",
    "plt.style.use('seaborn')\n",
    "\n",
    "#for good visualisation in notebook\n",
    "from IPython.core.display import display, HTML, Markdown\n",
    "\n",
    "# Progress bar for a “for” loop\n",
    "from tqdm.notebook import tqdm"
   ]
  },
  {
   "cell_type": "markdown",
   "metadata": {},
   "source": [
    "## Первичное знакомство с данными"
   ]
  },
  {
   "cell_type": "markdown",
   "metadata": {},
   "source": [
    "### Metadata\n",
    "- reviewerID - ID of the reviewer, e.g. A2SUAM1J3GNN3B\n",
    "- asin - ID of the product, e.g. 0000013714   https://www.amazon.com/dp/0000013714\n",
    "- reviewerName - name of the reviewer\n",
    "- helpful - helpfulness rating of the review, e.g. 2/3\n",
    "- reviewText - text of the review\n",
    "- overall - rating of the product\n",
    "- summary - summary of the review\n",
    "- unixReviewTime - time of the review (unix time)\n",
    "- reviewTime - time of the review (raw)"
   ]
  },
  {
   "cell_type": "code",
   "execution_count": 2,
   "metadata": {
    "scrolled": true
   },
   "outputs": [
    {
     "data": {
      "text/html": [
       "<div>\n",
       "<style scoped>\n",
       "    .dataframe tbody tr th:only-of-type {\n",
       "        vertical-align: middle;\n",
       "    }\n",
       "\n",
       "    .dataframe tbody tr th {\n",
       "        vertical-align: top;\n",
       "    }\n",
       "\n",
       "    .dataframe thead th {\n",
       "        text-align: right;\n",
       "    }\n",
       "</style>\n",
       "<table border=\"1\" class=\"dataframe\">\n",
       "  <thead>\n",
       "    <tr style=\"text-align: right;\">\n",
       "      <th></th>\n",
       "      <th>reviewerID</th>\n",
       "      <th>asin</th>\n",
       "      <th>reviewerName</th>\n",
       "      <th>helpful</th>\n",
       "      <th>reviewText</th>\n",
       "      <th>overall</th>\n",
       "      <th>summary</th>\n",
       "      <th>unixReviewTime</th>\n",
       "      <th>reviewTime</th>\n",
       "    </tr>\n",
       "  </thead>\n",
       "  <tbody>\n",
       "    <tr>\n",
       "      <th>0</th>\n",
       "      <td>A3F73SC1LY51OO</td>\n",
       "      <td>B00002243X</td>\n",
       "      <td>Alan Montgomery</td>\n",
       "      <td>[4, 4]</td>\n",
       "      <td>I needed a set of jumper cables for my new car...</td>\n",
       "      <td>5</td>\n",
       "      <td>Work Well - Should Have Bought Longer Ones</td>\n",
       "      <td>1313539200</td>\n",
       "      <td>08 17, 2011</td>\n",
       "    </tr>\n",
       "    <tr>\n",
       "      <th>1</th>\n",
       "      <td>A20S66SKYXULG2</td>\n",
       "      <td>B00002243X</td>\n",
       "      <td>alphonse</td>\n",
       "      <td>[1, 1]</td>\n",
       "      <td>These long cables work fine for my truck, but ...</td>\n",
       "      <td>4</td>\n",
       "      <td>Okay long cables</td>\n",
       "      <td>1315094400</td>\n",
       "      <td>09 4, 2011</td>\n",
       "    </tr>\n",
       "    <tr>\n",
       "      <th>2</th>\n",
       "      <td>A2I8LFSN2IS5EO</td>\n",
       "      <td>B00002243X</td>\n",
       "      <td>Chris</td>\n",
       "      <td>[0, 0]</td>\n",
       "      <td>Can't comment much on these since they have no...</td>\n",
       "      <td>5</td>\n",
       "      <td>Looks and feels heavy Duty</td>\n",
       "      <td>1374710400</td>\n",
       "      <td>07 25, 2013</td>\n",
       "    </tr>\n",
       "    <tr>\n",
       "      <th>3</th>\n",
       "      <td>A3GT2EWQSO45ZG</td>\n",
       "      <td>B00002243X</td>\n",
       "      <td>DeusEx</td>\n",
       "      <td>[19, 19]</td>\n",
       "      <td>I absolutley love Amazon!!!  For the price of ...</td>\n",
       "      <td>5</td>\n",
       "      <td>Excellent choice for Jumper Cables!!!</td>\n",
       "      <td>1292889600</td>\n",
       "      <td>12 21, 2010</td>\n",
       "    </tr>\n",
       "    <tr>\n",
       "      <th>4</th>\n",
       "      <td>A3ESWJPAVRPWB4</td>\n",
       "      <td>B00002243X</td>\n",
       "      <td>E. Hernandez</td>\n",
       "      <td>[0, 0]</td>\n",
       "      <td>I purchased the 12' feet long cable set and th...</td>\n",
       "      <td>5</td>\n",
       "      <td>Excellent, High Quality Starter Cables</td>\n",
       "      <td>1341360000</td>\n",
       "      <td>07 4, 2012</td>\n",
       "    </tr>\n",
       "  </tbody>\n",
       "</table>\n",
       "</div>"
      ],
      "text/plain": [
       "       reviewerID        asin     reviewerName   helpful  \\\n",
       "0  A3F73SC1LY51OO  B00002243X  Alan Montgomery    [4, 4]   \n",
       "1  A20S66SKYXULG2  B00002243X         alphonse    [1, 1]   \n",
       "2  A2I8LFSN2IS5EO  B00002243X            Chris    [0, 0]   \n",
       "3  A3GT2EWQSO45ZG  B00002243X           DeusEx  [19, 19]   \n",
       "4  A3ESWJPAVRPWB4  B00002243X     E. Hernandez    [0, 0]   \n",
       "\n",
       "                                          reviewText  overall  \\\n",
       "0  I needed a set of jumper cables for my new car...        5   \n",
       "1  These long cables work fine for my truck, but ...        4   \n",
       "2  Can't comment much on these since they have no...        5   \n",
       "3  I absolutley love Amazon!!!  For the price of ...        5   \n",
       "4  I purchased the 12' feet long cable set and th...        5   \n",
       "\n",
       "                                      summary  unixReviewTime   reviewTime  \n",
       "0  Work Well - Should Have Bought Longer Ones      1313539200  08 17, 2011  \n",
       "1                            Okay long cables      1315094400   09 4, 2011  \n",
       "2                  Looks and feels heavy Duty      1374710400  07 25, 2013  \n",
       "3       Excellent choice for Jumper Cables!!!      1292889600  12 21, 2010  \n",
       "4      Excellent, High Quality Starter Cables      1341360000   07 4, 2012  "
      ]
     },
     "metadata": {},
     "output_type": "display_data"
    },
    {
     "data": {
      "text/plain": [
       "(20473, 9)"
      ]
     },
     "metadata": {},
     "output_type": "display_data"
    }
   ],
   "source": [
    "df = pd.read_csv(\"datasets/05.Amazon_Automotive/05.Amazon Automotive.csv\")\n",
    "display(df.head())\n",
    "display(df.shape)"
   ]
  },
  {
   "cell_type": "code",
   "execution_count": 3,
   "metadata": {
    "scrolled": true
   },
   "outputs": [
    {
     "data": {
      "text/html": [
       "<h1 style=\"background-color:#FFAA00;\">reviewerID</h1>"
      ],
      "text/plain": [
       "<IPython.core.display.HTML object>"
      ]
     },
     "metadata": {},
     "output_type": "display_data"
    },
    {
     "data": {
      "text/plain": [
       "count              20473\n",
       "unique              2928\n",
       "top       A2V1J3JT5OOZFO\n",
       "freq                  51\n",
       "Name: reviewerID, dtype: object"
      ]
     },
     "metadata": {},
     "output_type": "display_data"
    },
    {
     "data": {
      "text/html": [
       "<h1 style=\"background-color:#FFAA00;\">asin</h1>"
      ],
      "text/plain": [
       "<IPython.core.display.HTML object>"
      ]
     },
     "metadata": {},
     "output_type": "display_data"
    },
    {
     "data": {
      "text/plain": [
       "count          20473\n",
       "unique          1835\n",
       "top       B000CITK8S\n",
       "freq             169\n",
       "Name: asin, dtype: object"
      ]
     },
     "metadata": {},
     "output_type": "display_data"
    },
    {
     "data": {
      "text/html": [
       "<h1 style=\"background-color:#FFAA00;\">reviewerName</h1>"
      ],
      "text/plain": [
       "<IPython.core.display.HTML object>"
      ]
     },
     "metadata": {},
     "output_type": "display_data"
    },
    {
     "data": {
      "text/plain": [
       "count               20260\n",
       "unique               2788\n",
       "top       Amazon Customer\n",
       "freq                  173\n",
       "Name: reviewerName, dtype: object"
      ]
     },
     "metadata": {},
     "output_type": "display_data"
    },
    {
     "data": {
      "text/html": [
       "<h1 style=\"background-color:#FFAA00;\">helpful</h1>"
      ],
      "text/plain": [
       "<IPython.core.display.HTML object>"
      ]
     },
     "metadata": {},
     "output_type": "display_data"
    },
    {
     "data": {
      "text/plain": [
       "count      20473\n",
       "unique       380\n",
       "top       [0, 0]\n",
       "freq       12844\n",
       "Name: helpful, dtype: object"
      ]
     },
     "metadata": {},
     "output_type": "display_data"
    },
    {
     "data": {
      "text/html": [
       "<h1 style=\"background-color:#FFAA00;\">reviewText</h1>"
      ],
      "text/plain": [
       "<IPython.core.display.HTML object>"
      ]
     },
     "metadata": {},
     "output_type": "display_data"
    },
    {
     "data": {
      "text/plain": [
       "count                                                 20467\n",
       "unique                                                20467\n",
       "top       Do what as it says and you'll get the results ...\n",
       "freq                                                      1\n",
       "Name: reviewText, dtype: object"
      ]
     },
     "metadata": {},
     "output_type": "display_data"
    },
    {
     "data": {
      "text/html": [
       "<h1 style=\"background-color:#FFAA00;\">overall</h1>"
      ],
      "text/plain": [
       "<IPython.core.display.HTML object>"
      ]
     },
     "metadata": {},
     "output_type": "display_data"
    },
    {
     "data": {
      "text/plain": [
       "count    20473.000000\n",
       "mean         4.471841\n",
       "std          0.940337\n",
       "min          1.000000\n",
       "25%          4.000000\n",
       "50%          5.000000\n",
       "75%          5.000000\n",
       "max          5.000000\n",
       "Name: overall, dtype: float64"
      ]
     },
     "metadata": {},
     "output_type": "display_data"
    },
    {
     "data": {
      "text/html": [
       "<h1 style=\"background-color:#FFAA00;\">summary</h1>"
      ],
      "text/plain": [
       "<IPython.core.display.HTML object>"
      ]
     },
     "metadata": {},
     "output_type": "display_data"
    },
    {
     "data": {
      "text/plain": [
       "count          20473\n",
       "unique         17225\n",
       "top       Five Stars\n",
       "freq              95\n",
       "Name: summary, dtype: object"
      ]
     },
     "metadata": {},
     "output_type": "display_data"
    },
    {
     "data": {
      "text/html": [
       "<h1 style=\"background-color:#FFAA00;\">unixReviewTime</h1>"
      ],
      "text/plain": [
       "<IPython.core.display.HTML object>"
      ]
     },
     "metadata": {},
     "output_type": "display_data"
    },
    {
     "data": {
      "text/plain": [
       "count    2.047300e+04\n",
       "mean     1.365018e+09\n",
       "std      3.621266e+07\n",
       "min      1.121386e+09\n",
       "25%      1.354838e+09\n",
       "50%      1.373414e+09\n",
       "75%      1.390435e+09\n",
       "max      1.405901e+09\n",
       "Name: unixReviewTime, dtype: float64"
      ]
     },
     "metadata": {},
     "output_type": "display_data"
    },
    {
     "data": {
      "text/html": [
       "<h1 style=\"background-color:#FFAA00;\">reviewTime</h1>"
      ],
      "text/plain": [
       "<IPython.core.display.HTML object>"
      ]
     },
     "metadata": {},
     "output_type": "display_data"
    },
    {
     "data": {
      "text/plain": [
       "count          20473\n",
       "unique          1855\n",
       "top       07 8, 2014\n",
       "freq              82\n",
       "Name: reviewTime, dtype: object"
      ]
     },
     "metadata": {},
     "output_type": "display_data"
    }
   ],
   "source": [
    "for col in df.columns:\n",
    "    display(HTML('<h1 style=\"background-color:#FFAA00;\">' + col + '</h1>'))\n",
    "    display(df[col].describe())"
   ]
  },
  {
   "cell_type": "markdown",
   "metadata": {},
   "source": [
    "---\n",
    "Для дальнейшей работы нам потребуются только \"reviewerID\", \"asin\" и \"overall\", причём, переименуем их сразу в \"user\", \"item\" и \"rating\""
   ]
  },
  {
   "cell_type": "code",
   "execution_count": 4,
   "metadata": {},
   "outputs": [
    {
     "data": {
      "text/html": [
       "<div>\n",
       "<style scoped>\n",
       "    .dataframe tbody tr th:only-of-type {\n",
       "        vertical-align: middle;\n",
       "    }\n",
       "\n",
       "    .dataframe tbody tr th {\n",
       "        vertical-align: top;\n",
       "    }\n",
       "\n",
       "    .dataframe thead th {\n",
       "        text-align: right;\n",
       "    }\n",
       "</style>\n",
       "<table border=\"1\" class=\"dataframe\">\n",
       "  <thead>\n",
       "    <tr style=\"text-align: right;\">\n",
       "      <th></th>\n",
       "      <th>user</th>\n",
       "      <th>item</th>\n",
       "      <th>rating</th>\n",
       "    </tr>\n",
       "  </thead>\n",
       "  <tbody>\n",
       "    <tr>\n",
       "      <th>0</th>\n",
       "      <td>A3F73SC1LY51OO</td>\n",
       "      <td>B00002243X</td>\n",
       "      <td>5</td>\n",
       "    </tr>\n",
       "    <tr>\n",
       "      <th>1</th>\n",
       "      <td>A20S66SKYXULG2</td>\n",
       "      <td>B00002243X</td>\n",
       "      <td>4</td>\n",
       "    </tr>\n",
       "    <tr>\n",
       "      <th>2</th>\n",
       "      <td>A2I8LFSN2IS5EO</td>\n",
       "      <td>B00002243X</td>\n",
       "      <td>5</td>\n",
       "    </tr>\n",
       "    <tr>\n",
       "      <th>3</th>\n",
       "      <td>A3GT2EWQSO45ZG</td>\n",
       "      <td>B00002243X</td>\n",
       "      <td>5</td>\n",
       "    </tr>\n",
       "    <tr>\n",
       "      <th>4</th>\n",
       "      <td>A3ESWJPAVRPWB4</td>\n",
       "      <td>B00002243X</td>\n",
       "      <td>5</td>\n",
       "    </tr>\n",
       "  </tbody>\n",
       "</table>\n",
       "</div>"
      ],
      "text/plain": [
       "             user        item  rating\n",
       "0  A3F73SC1LY51OO  B00002243X       5\n",
       "1  A20S66SKYXULG2  B00002243X       4\n",
       "2  A2I8LFSN2IS5EO  B00002243X       5\n",
       "3  A3GT2EWQSO45ZG  B00002243X       5\n",
       "4  A3ESWJPAVRPWB4  B00002243X       5"
      ]
     },
     "execution_count": 4,
     "metadata": {},
     "output_type": "execute_result"
    }
   ],
   "source": [
    "df = df[[\"reviewerID\", \"asin\", \"overall\"]]\n",
    "df.columns = [\"user\", \"item\", \"rating\"]\n",
    "df.head()"
   ]
  },
  {
   "cell_type": "code",
   "execution_count": 5,
   "metadata": {},
   "outputs": [],
   "source": [
    "def short_description_of_filling(rankings: pd.DataFrame):\n",
    "    n_users = len(rankings[\"user\"].unique())\n",
    "    n_items = len(rankings[\"item\"].unique())\n",
    "    n_ratings = len(rankings)\n",
    "    print (\"Унакальных Пользователей:\", n_users)\n",
    "    print (\"Унакальных Товаров:\", n_items)\n",
    "    print (\"Выставленных оценок:\", n_ratings)\n",
    "    # Расчет доли заполнения оценками\n",
    "    print(\"Размер матрицы: {} x {}, Ячеек в матрице: {}, Заполнено: {:.3%}\".format (n_users, n_items, n_users * n_items, n_ratings / (n_users * n_items)))"
   ]
  },
  {
   "cell_type": "code",
   "execution_count": 6,
   "metadata": {},
   "outputs": [
    {
     "name": "stdout",
     "output_type": "stream",
     "text": [
      "Унакальных Пользователей: 2928\n",
      "Унакальных Товаров: 1835\n",
      "Выставленных оценок: 20473\n",
      "Размер матрицы: 2928 x 1835, Ячеек в матрице: 5372880, Заполнено: 0.381%\n"
     ]
    }
   ],
   "source": [
    "short_description_of_filling(df)"
   ]
  },
  {
   "cell_type": "code",
   "execution_count": 7,
   "metadata": {},
   "outputs": [
    {
     "data": {
      "image/png": "[encoded data removed]",
      "text/plain": [
       "<Figure size 576x396 with 1 Axes>"
      ]
     },
     "metadata": {},
     "output_type": "display_data"
    }
   ],
   "source": [
    "df.hist()\n",
    "plt.show()"
   ]
  },
  {
   "cell_type": "markdown",
   "metadata": {},
   "source": [
    "Большинство из выставленных оценок - это \"5\". Плохие оценки люди выставляют очень редко. Также замечено, что не существует оценок \"0\"."
   ]
  },
  {
   "cell_type": "markdown",
   "metadata": {},
   "source": [
    "## Выбор части исходной таблицы с пользователями, имеющими наибольшее кол-во оценок"
   ]
  },
  {
   "cell_type": "markdown",
   "metadata": {},
   "source": [
    "Изначальная заполненность таблицы очень маленькая. Из всех пользователей и фильмов выберем **n_users** пользователей с наибольшим кол-вом отзывов и из них **n_items** объектов с наибольшим кол-вом отзывов."
   ]
  },
  {
   "cell_type": "code",
   "execution_count": 8,
   "metadata": {},
   "outputs": [
    {
     "name": "stdout",
     "output_type": "stream",
     "text": [
      "Было 20473 элементов в DataFrame\n",
      "Стало 71 элементов в DataFrame\n",
      "----------------------------------------\n"
     ]
    },
    {
     "data": {
      "text/markdown": [
       "**Полученная таблица с наибольшим количеством отзывов:**"
      ],
      "text/plain": [
       "<IPython.core.display.Markdown object>"
      ]
     },
     "metadata": {},
     "output_type": "display_data"
    },
    {
     "name": "stdout",
     "output_type": "stream",
     "text": [
      "Унакальных Пользователей: 19\n",
      "Унакальных Товаров: 20\n",
      "Выставленных оценок: 71\n",
      "Размер матрицы: 19 x 20, Ячеек в матрице: 380, Заполнено: 18.684%\n"
     ]
    }
   ],
   "source": [
    "nUsers = 20\n",
    "nItems = 20\n",
    "\n",
    "mostActiveUsers = df[\"user\"].value_counts().head(nUsers).index\n",
    "dfNUsers = df[df[\"user\"].isin(mostActiveUsers)]\n",
    "mostActiveItems = dfNUsers[\"item\"].value_counts().head(nItems).index\n",
    "rankings = dfNUsers[dfNUsers[\"item\"].isin(mostActiveItems)].reset_index(drop=True)\n",
    "\n",
    "print(\"Было\", len(df), \"элементов в DataFrame\")\n",
    "print(\"Стало\", len(rankings), \"элементов в DataFrame\")\n",
    "print(\"-\"*40)\n",
    "display(Markdown(\"**Полученная таблица с наибольшим количеством отзывов:**\"))\n",
    "# display(rankings.head(3))\n",
    "short_description_of_filling(rankings)"
   ]
  },
  {
   "cell_type": "code",
   "execution_count": 9,
   "metadata": {},
   "outputs": [
    {
     "data": {
      "image/png": "[encoded data removed]",
      "text/plain": [
       "<Figure size 576x396 with 1 Axes>"
      ]
     },
     "metadata": {},
     "output_type": "display_data"
    },
    {
     "name": "stdout",
     "output_type": "stream",
     "text": [
      "5    46\n",
      "4    16\n",
      "3     5\n",
      "2     2\n",
      "1     2\n",
      "Name: rating, dtype: int64\n"
     ]
    }
   ],
   "source": [
    "rankings.hist()\n",
    "plt.show()\n",
    "print(rankings[\"rating\"].value_counts())"
   ]
  },
  {
   "cell_type": "markdown",
   "metadata": {},
   "source": [
    "## Получение списка уникальных пользователей и товаров"
   ]
  },
  {
   "cell_type": "code",
   "execution_count": 10,
   "metadata": {},
   "outputs": [],
   "source": [
    "userUniqList=rankings[\"user\"].unique().tolist()\n",
    "userUniqList.sort()\n",
    "itemUniqList=rankings[\"item\"].unique().tolist()\n",
    "itemUniqList.sort()"
   ]
  },
  {
   "cell_type": "markdown",
   "metadata": {},
   "source": [
    "## Формирование матрицы R"
   ]
  },
  {
   "cell_type": "code",
   "execution_count": 11,
   "metadata": {},
   "outputs": [],
   "source": [
    "def createR(rankings: pd.DataFrame, userUniqList: list, itemUniqList: list) -> np.ndarray :\n",
    "    # Создание матрицы нужной размерности\n",
    "    R = np.zeros((len(userUniqList), len(itemUniqList)))\n",
    "\n",
    "    # Занесение оценок в матрицу\n",
    "    for i in tqdm(rankings.index) :\n",
    "        line = rankings.loc[i, :]\n",
    "        userName = line[\"user\"]\n",
    "        itemName = line[\"item\"]\n",
    "        rate = float(line[\"rating\"])\n",
    "        # получить индекс ИД_пользователя/предмета в списке уникальных ИД\n",
    "        indexForUser = userUniqList.index(userName)\n",
    "        indexForItem = itemUniqList.index(itemName)\n",
    "        # Внести оценку\n",
    "        R[indexForUser, indexForItem] = rate\n",
    "    return R"
   ]
  },
  {
   "cell_type": "code",
   "execution_count": 12,
   "metadata": {},
   "outputs": [
    {
     "data": {
      "application/vnd.jupyter.widget-view+json": {
       "model_id": "3d7fd18f52644c7cbf7760571e7f24ea",
       "version_major": 2,
       "version_minor": 0
      },
      "text/plain": [
       "HBox(children=(HTML(value=''), FloatProgress(value=0.0, max=71.0), HTML(value='')))"
      ]
     },
     "metadata": {},
     "output_type": "display_data"
    },
    {
     "name": "stdout",
     "output_type": "stream",
     "text": [
      "\n"
     ]
    }
   ],
   "source": [
    "R = createR(rankings, userUniqList, itemUniqList)"
   ]
  },
  {
   "cell_type": "code",
   "execution_count": 13,
   "metadata": {},
   "outputs": [
    {
     "name": "stdout",
     "output_type": "stream",
     "text": [
      "Размер матрицы 19 x 20, Элементов 380, Заполнено 18.684211%\n"
     ]
    }
   ],
   "source": [
    "# Расчет доли заполнения оценками\n",
    "print(\"Размер матрицы {} x {}, Элементов {}, Заполнено {:%}\".format (\n",
    "    R.shape[0], R.shape[1],\n",
    "    R.shape[0] * R.shape[1],\n",
    "    len (rankings)/(R.shape[0] * R.shape[1])))"
   ]
  },
  {
   "cell_type": "markdown",
   "metadata": {},
   "source": [
    "## Вывод матрицы R в графическом виде"
   ]
  },
  {
   "cell_type": "code",
   "execution_count": 14,
   "metadata": {},
   "outputs": [],
   "source": [
    "# Вывод матрицы R в графическом виде\n",
    "from matplotlib import cm\n",
    "\n",
    "def visualizeR(R: np.ndarray, xlabel: str, ylabel: str, xlabelsList=None, ylabelsList=None, isAddTicks=False, autoFigsize=True):\n",
    "    R = R.round().astype('int8') \n",
    "    # создание своей цветовой карты, с разделением на 6 участков по количеству оценок (включая 0)\n",
    "    myColorMap = cm.get_cmap('viridis', 6)\n",
    "\n",
    "    # создание полотна размером HхW\n",
    "    if autoFigsize:\n",
    "        plt.figure(figsize=(9, 6.5))\n",
    "\n",
    "    # отрисовка матрицы, применив цветовую карту\n",
    "    plt.imshow(R, myColorMap)\n",
    "\n",
    "    # добавление названия осей\n",
    "    plt.xlabel(xlabel)\n",
    "    plt.ylabel(ylabel)\n",
    "\n",
    "\n",
    "    # добавление подписи осей\n",
    "    if isAddTicks:\n",
    "        plt.xticks( ticks=np.arange(len(xlabelsList)),\n",
    "                    labels=xlabelsList,\n",
    "                    rotation=20)\n",
    "\n",
    "        plt.yticks( ticks=np.arange(len(ylabelsList)),\n",
    "                    labels=ylabelsList,\n",
    "                    rotation=0)\n",
    "    else:\n",
    "        if(xlabelsList is not None):\n",
    "            plt.xticks(ticks=np.arange(0,len (xlabelsList)), labels=[])\n",
    "        else:\n",
    "            plt.xticks(ticks=[], labels=[])\n",
    "        if(xlabelsList is not None):\n",
    "            plt.yticks(ticks=np.arange(0,len (ylabelsList)), labels=[])\n",
    "        else:\n",
    "            plt.yticks(ticks=[], labels=[])\n",
    "\n",
    "    # добавление цветовой полосы\n",
    "    plt.colorbar()"
   ]
  },
  {
   "cell_type": "code",
   "execution_count": 15,
   "metadata": {},
   "outputs": [
    {
     "data": {
      "image/png": "[encoded data removed]",
      "text/plain": [
       "<Figure size 648x518.4 with 2 Axes>"
      ]
     },
     "metadata": {},
     "output_type": "display_data"
    }
   ],
   "source": [
    "# visualizeR(R, \"Item\", \"User\", itemUniqList, userUniqList)\n",
    "\n",
    "# Транспонированная матрица R\n",
    "plt.figure(figsize=(9, 7.2))\n",
    "visualizeR(R.T, \"User\", \"Item\", userUniqList, itemUniqList, autoFigsize=False)"
   ]
  },
  {
   "cell_type": "markdown",
   "metadata": {},
   "source": [
    "# Отыскание похожих пользователей"
   ]
  },
  {
   "cell_type": "markdown",
   "metadata": {},
   "source": [
    "В задании указывали, что функция схожести вычисляется только по тем объектам, которые оценили оба пользователя. Функция notUseZero позволяет учесть этот момент."
   ]
  },
  {
   "cell_type": "code",
   "execution_count": 16,
   "metadata": {},
   "outputs": [
    {
     "name": "stdout",
     "output_type": "stream",
     "text": [
      "test_notUseZero выполнен успешно\n"
     ]
    }
   ],
   "source": [
    "def notUseZero(x: np.array, y: np.array):\n",
    "    if (type(x) is not np.ndarray or type(y) is not np.ndarray):\n",
    "        x = np.array(x)\n",
    "        y = np.array(y)\n",
    "    else:\n",
    "        x = x.copy()\n",
    "        y = y.copy()\n",
    "    y[x == 0] = 0\n",
    "    x[y == 0] = 0\n",
    "    return x, y\n",
    "\n",
    "def test_notUseZero():\n",
    "    x = [1, 2, 0, 0]\n",
    "    y = [0, 3, 0, 1]\n",
    "    xExpected = [0, 2, 0, 0]\n",
    "    yExpected = [0, 3, 0, 0]\n",
    "    xReceived, yReceived = notUseZero(x, y)\n",
    "    assert (xExpected == xReceived).all(), \"X failed.\\n\\tExpected: {}\\n\\tReceived: {}\".format(xExpected, xReceived)\n",
    "    assert (yExpected == yReceived).all(), \"Y failed.\\n\\tExpected: {}\\n\\tReceived: {}\".format(yExpected, yReceived)\n",
    "    print(\"test_notUseZero выполнен успешно\")\n",
    "\n",
    "test_notUseZero()"
   ]
  },
  {
   "cell_type": "markdown",
   "metadata": {},
   "source": [
    "## Метрики"
   ]
  },
  {
   "cell_type": "code",
   "execution_count": 17,
   "metadata": {},
   "outputs": [
    {
     "name": "stdout",
     "output_type": "stream",
     "text": [
      "tests_distance выполнен успешно\n"
     ]
    }
   ],
   "source": [
    "def euclideDistance(x: np.array, y: np.array):\n",
    "    return sum((x - y)**2)**0.5\n",
    "\n",
    "def manhattanDistance(x: np.array, y: np.array):\n",
    "    return sum(abs(x - y))\n",
    "\n",
    "def pearson(x: np.array, y: np.array):\n",
    "    if ((np.max(x) == np.min(x)) or (np.max(y) == np.min(y))): # Один из векторов состоит только из одного значения\n",
    "        return 0\n",
    "    if (x == y).all():\n",
    "        return 1\n",
    "    return sum((x - x.mean()) * (y - y.mean())) / (sum(x**2 - x.mean()**2)**0.5 * sum(y**2 - y.mean()**2)**0.5)\n",
    "\n",
    "def jaccardDistance(x: np.array, y: np.array):\n",
    "    if (x == y).all():\n",
    "        return 1\n",
    "    return sum(np.minimum(x, y)) / sum(np.maximum(x, y))\n",
    "\n",
    "def cosinusDistance(x: np.array, y: np.array):\n",
    "    if (x == y).all():\n",
    "        return 1\n",
    "    xdoty = x.dot(y)\n",
    "    if (np.isclose(xdoty, 0)):\n",
    "        return 0\n",
    "    return x.dot(y) / (np.linalg.norm(x) * np.linalg.norm(y))\n",
    " \n",
    "\n",
    "def tests_distance():\n",
    "    # Проверка, на нулевом векторе\n",
    "    x = np.zeros(5)\n",
    "    assert np.isclose(euclideDistance(x, x), 0), \"euclideDistance, empty\"\n",
    "    assert np.isclose(manhattanDistance(x, x), 0), \"manhattanDistance, empty\"\n",
    "    assert np.isclose(pearson(x, x), 0), \"pearson, empty\"\n",
    "    assert np.isclose(jaccardDistance(x, x), 1), \"jaccardDistance, empty\"\n",
    "    assert np.isclose(cosinusDistance(x, x), 1), \"cosinusDistance, empty\"\n",
    "    \n",
    "    # Теперь то же самое (вектор сам с сабой), но вектор не нулевой\n",
    "    x = np.random.rand(5)\n",
    "    assert np.isclose(euclideDistance(x, x), 0), \"euclideDistance, вектор сам с сабой\"\n",
    "    assert np.isclose(manhattanDistance(x, x), 0), \"manhattanDistance, вектор сам с сабой\"\n",
    "    assert np.isclose(pearson(x, x), 1), \"pearson, вектор сам с сабой\"\n",
    "    assert np.isclose(jaccardDistance(x, x), 1), \"jaccardDistance, вектор сам с сабой\"\n",
    "    assert np.isclose(cosinusDistance(x, x), 1), \"cosinusDistance, вектор сам с сабой\"\n",
    "    \n",
    "    \n",
    "    x = np.array([1, 1])\n",
    "    y = np.array([0, 0])\n",
    "    assert np.isclose(euclideDistance(x, y), 2**0.5), \"euclideDistance, x={}, y={}\".format(x, y)\n",
    "    assert np.isclose(manhattanDistance(x, y), 2), \"manhattanDistance, x={}, y={}\".format(x, y)\n",
    "    assert np.isclose(pearson(x, y), 0), \"pearson, x={}, y={}\".format(x, y)\n",
    "    assert np.isclose(jaccardDistance(x, y), 0), \"jaccardDistance, x={}, y={}\".format(x, y)\n",
    "    assert np.isclose(cosinusDistance(x, y), 0), \"cosinusDistance, x={}, y={}\".format(x, y)\n",
    "    \n",
    "    x = np.array([0, 1])\n",
    "    y = np.array([1, 0])\n",
    "    assert np.isclose(euclideDistance(x, y), 2**0.5), \"euclideDistance, x={}, y={}\".format(x, y)\n",
    "    assert np.isclose(manhattanDistance(x, y), 2), \"manhattanDistance, x={}, y={}\".format(x, y)\n",
    "    assert np.isclose(pearson(x, y), -1), \"pearson, x={}, y={}\".format(x, y)\n",
    "    assert np.isclose(jaccardDistance(x, y), 0), \"jaccardDistance, x={}, y={}\".format(x, y)\n",
    "    assert np.isclose(cosinusDistance(x, y), 0), \"cosinusDistance, x={}, y={}\".format(x, y)\n",
    "    \n",
    "    print(\"tests_distance выполнен успешно\")\n",
    "    \n",
    "tests_distance()"
   ]
  },
  {
   "cell_type": "markdown",
   "metadata": {},
   "source": [
    "## Мера схожести sim\n",
    "Мера схожести равна 0, если объекты не схожи, и положительному числу (желательно 1), если схожи. Соответственно, чем ближе sim к 0, тем менее похожи объекты.\n",
    "\n",
    "Для меры Евклида и Манхэттенской меры сделали, как рекомендовали в notebook-примере. Для коэффициента корреляции Пирсона оставили, значение для положительной корреляции, для отрицательной - сделали sim=0. Для меры Жаккара можно ни чего не менять, так как у нас оценки положительные, то мера будет в диапазоне [0; 1]. Косинусная мера имеет 1, когда объекты совпадают; когда значения отрицательны, то сделали sim=0."
   ]
  },
  {
   "cell_type": "code",
   "execution_count": 18,
   "metadata": {},
   "outputs": [],
   "source": [
    "class Sim(object):\n",
    "    \n",
    "    def __init__(self, x: np.array, y: np.array):\n",
    "        self._x, self._y = notUseZero(x, y)\n",
    "        if ((self._x == 0).all() or (self._y == 0).all()): # В этом случае для всех способов sim будет 0\n",
    "            self._sim = 0\n",
    "        else : # Иначе придётся в дальнейшем вычислять\n",
    "            self._sim = self.simCalculate(x, y)\n",
    "        \n",
    "    @staticmethod\n",
    "    def simCalculate(x: np.array, y: np.array):\n",
    "        raise \"It's abstract method. You should override it\"\n",
    "      \n",
    "    @property\n",
    "    def sim(self):\n",
    "        return self._sim\n",
    "    \n",
    "\n",
    "class EuclideSim(Sim):\n",
    "    @staticmethod\n",
    "    def simCalculate(x: np.array, y: np.array):\n",
    "        return 1 / (1 + euclideDistance(x, y))\n",
    "    \n",
    "    \n",
    "class ManhattanSim(Sim):\n",
    "    @staticmethod\n",
    "    def simCalculate(x: np.array, y: np.array):\n",
    "        return 1 / (1 + manhattanDistance(x, y))\n",
    "\n",
    "\n",
    "class PearsonSim(Sim):\n",
    "    @staticmethod\n",
    "    def simCalculate(x: np.array, y: np.array):\n",
    "        s = pearson(x, y)\n",
    "        s = s if s > 0 else 0\n",
    "        return s\n",
    "\n",
    "    \n",
    "class JaccardSim(Sim):\n",
    "    @staticmethod\n",
    "    def simCalculate(x: np.array, y: np.array):\n",
    "        return jaccardDistance(x, y)\n",
    "        \n",
    "class CosinusSim(Sim):\n",
    "    @staticmethod\n",
    "    def simCalculate(x: np.array, y: np.array):\n",
    "        s = cosinusDistance(x, y)\n",
    "        s = s if s > 0 else 0\n",
    "        return s\n"
   ]
  },
  {
   "cell_type": "markdown",
   "metadata": {},
   "source": [
    "## Получение матрицы RSim\n",
    "Это будет квадратная, симметричная относительно главной диагонали таблица, в которой показаны sim для каждой пары сравниваемых субъектов/объектов. При этом, по диагонали будут нули (то есть, sim=0 для самого себя).\n",
    "\n",
    "*(Это немного отличается от пошагового задания, но конечный результат будет одинаковым).*"
   ]
  },
  {
   "cell_type": "code",
   "execution_count": 19,
   "metadata": {},
   "outputs": [
    {
     "data": {
      "text/markdown": [
       "**Пример RSim**"
      ],
      "text/plain": [
       "<IPython.core.display.Markdown object>"
      ]
     },
     "metadata": {},
     "output_type": "display_data"
    },
    {
     "name": "stdout",
     "output_type": "stream",
     "text": [
      "R:\n"
     ]
    },
    {
     "data": {
      "text/plain": [
       "array([[1, 0, 1],\n",
       "       [1, 0, 1],\n",
       "       [1, 0, 0],\n",
       "       [5, 0, 0]])"
      ]
     },
     "metadata": {},
     "output_type": "display_data"
    },
    {
     "name": "stdout",
     "output_type": "stream",
     "text": [
      "labels: ['q', 'w', 'r', 't']\n",
      "SimClass: ManhattanSim\n",
      "RSim:\n"
     ]
    },
    {
     "data": {
      "text/html": [
       "<div>\n",
       "<style scoped>\n",
       "    .dataframe tbody tr th:only-of-type {\n",
       "        vertical-align: middle;\n",
       "    }\n",
       "\n",
       "    .dataframe tbody tr th {\n",
       "        vertical-align: top;\n",
       "    }\n",
       "\n",
       "    .dataframe thead th {\n",
       "        text-align: right;\n",
       "    }\n",
       "</style>\n",
       "<table border=\"1\" class=\"dataframe\">\n",
       "  <thead>\n",
       "    <tr style=\"text-align: right;\">\n",
       "      <th></th>\n",
       "      <th>q</th>\n",
       "      <th>w</th>\n",
       "      <th>r</th>\n",
       "      <th>t</th>\n",
       "    </tr>\n",
       "  </thead>\n",
       "  <tbody>\n",
       "    <tr>\n",
       "      <th>q</th>\n",
       "      <td>0.000000</td>\n",
       "      <td>1.000000</td>\n",
       "      <td>0.5</td>\n",
       "      <td>0.166667</td>\n",
       "    </tr>\n",
       "    <tr>\n",
       "      <th>w</th>\n",
       "      <td>1.000000</td>\n",
       "      <td>0.000000</td>\n",
       "      <td>0.5</td>\n",
       "      <td>0.166667</td>\n",
       "    </tr>\n",
       "    <tr>\n",
       "      <th>r</th>\n",
       "      <td>0.500000</td>\n",
       "      <td>0.500000</td>\n",
       "      <td>0.0</td>\n",
       "      <td>0.200000</td>\n",
       "    </tr>\n",
       "    <tr>\n",
       "      <th>t</th>\n",
       "      <td>0.166667</td>\n",
       "      <td>0.166667</td>\n",
       "      <td>0.2</td>\n",
       "      <td>0.000000</td>\n",
       "    </tr>\n",
       "  </tbody>\n",
       "</table>\n",
       "</div>"
      ],
      "text/plain": [
       "          q         w    r         t\n",
       "q  0.000000  1.000000  0.5  0.166667\n",
       "w  1.000000  0.000000  0.5  0.166667\n",
       "r  0.500000  0.500000  0.0  0.200000\n",
       "t  0.166667  0.166667  0.2  0.000000"
      ]
     },
     "metadata": {},
     "output_type": "display_data"
    }
   ],
   "source": [
    "def getRSim(R, labels: list, SimClass) -> pd.DataFrame:\n",
    "    \"\"\"\n",
    "        R: матрица, строками которой являются сравниваемые объекты\n",
    "        labels: список имён сравниваемых объектов\n",
    "    return:\n",
    "        RSim: квадратная, симметричная относительно главной диагонали таблица, \n",
    "              в которой показаны sim для каждой пары сравниваемых объектов. При этом, по диагонали нули \n",
    "              (то есть, sim=0 для самого себя)\n",
    "    \"\"\"\n",
    "    RSim = pd.DataFrame(0, columns=labels, index=labels)\n",
    "    for i in range(len(labels) - 1):\n",
    "        for j in range(i + 1, len(labels)):\n",
    "            sim = SimClass(R[i], R[j])\n",
    "            RSim.iloc[i, j] = sim.sim\n",
    "    # Заполнили только для верхней части матрицы, теперь надо отразить относительно диагонали\n",
    "    RSim = RSim + RSim.T\n",
    "    return RSim\n",
    "\n",
    "def exampleRSim():\n",
    "    display(Markdown(\"**Пример RSim**\"))\n",
    "    R = np.array([np.array([1, 0, 1]), np.array([1, 0, 1]), np.array([1, 0, 0]), np.array([5, 0, 0])])\n",
    "    print(\"R:\")\n",
    "    display(R)\n",
    "    labels = [\"q\", \"w\", \"r\", \"t\"]\n",
    "    print(\"labels: {}\".format(labels))\n",
    "    print(\"SimClass: ManhattanSim\")\n",
    "    print(\"RSim:\")\n",
    "    display(getRSim(R, labels, ManhattanSim))\n",
    "    \n",
    "exampleRSim()"
   ]
  },
  {
   "cell_type": "markdown",
   "metadata": {},
   "source": [
    "## Получение списка отранжированных k-субъектов/объектов (схожих)"
   ]
  },
  {
   "cell_type": "markdown",
   "metadata": {},
   "source": [
    "Функция topMatches возвращает список отранжированных k-субъектов/объектов. В работе используется k=5. На входе в функцию передается DataFrame RSim, название субъекта/объекта, для которого происходит ранжирование и k. "
   ]
  },
  {
   "cell_type": "code",
   "execution_count": 20,
   "metadata": {},
   "outputs": [
    {
     "data": {
      "text/markdown": [
       "**Пример topMatches**"
      ],
      "text/plain": [
       "<IPython.core.display.Markdown object>"
      ]
     },
     "metadata": {},
     "output_type": "display_data"
    },
    {
     "name": "stdout",
     "output_type": "stream",
     "text": [
      "RSim:\n"
     ]
    },
    {
     "data": {
      "text/html": [
       "<div>\n",
       "<style scoped>\n",
       "    .dataframe tbody tr th:only-of-type {\n",
       "        vertical-align: middle;\n",
       "    }\n",
       "\n",
       "    .dataframe tbody tr th {\n",
       "        vertical-align: top;\n",
       "    }\n",
       "\n",
       "    .dataframe thead th {\n",
       "        text-align: right;\n",
       "    }\n",
       "</style>\n",
       "<table border=\"1\" class=\"dataframe\">\n",
       "  <thead>\n",
       "    <tr style=\"text-align: right;\">\n",
       "      <th></th>\n",
       "      <th>q</th>\n",
       "      <th>w</th>\n",
       "      <th>r</th>\n",
       "      <th>t</th>\n",
       "    </tr>\n",
       "  </thead>\n",
       "  <tbody>\n",
       "    <tr>\n",
       "      <th>q</th>\n",
       "      <td>0.000000</td>\n",
       "      <td>1.000000</td>\n",
       "      <td>0.5</td>\n",
       "      <td>0.166667</td>\n",
       "    </tr>\n",
       "    <tr>\n",
       "      <th>w</th>\n",
       "      <td>1.000000</td>\n",
       "      <td>0.000000</td>\n",
       "      <td>0.5</td>\n",
       "      <td>0.166667</td>\n",
       "    </tr>\n",
       "    <tr>\n",
       "      <th>r</th>\n",
       "      <td>0.500000</td>\n",
       "      <td>0.500000</td>\n",
       "      <td>0.0</td>\n",
       "      <td>0.200000</td>\n",
       "    </tr>\n",
       "    <tr>\n",
       "      <th>t</th>\n",
       "      <td>0.166667</td>\n",
       "      <td>0.166667</td>\n",
       "      <td>0.2</td>\n",
       "      <td>0.000000</td>\n",
       "    </tr>\n",
       "  </tbody>\n",
       "</table>\n",
       "</div>"
      ],
      "text/plain": [
       "          q         w    r         t\n",
       "q  0.000000  1.000000  0.5  0.166667\n",
       "w  1.000000  0.000000  0.5  0.166667\n",
       "r  0.500000  0.500000  0.0  0.200000\n",
       "t  0.166667  0.166667  0.2  0.000000"
      ]
     },
     "metadata": {},
     "output_type": "display_data"
    },
    {
     "name": "stdout",
     "output_type": "stream",
     "text": [
      "topMatches(rsim, \"w\", 2):\n",
      "['q', 'r']\n",
      "Values from RSim for topMatches:\n",
      "q    1.0\n",
      "r    0.5\n",
      "Name: w, dtype: float64\n"
     ]
    }
   ],
   "source": [
    "def topMatches(RSim, label, k=5) -> list:\n",
    "    \"\"\"\n",
    "        RSim: смотри getRSim\n",
    "        label: название субъекта/объекта, для которого происходит ранжирование\n",
    "        k: количество похожих субъектов/объектов\n",
    "    return:\n",
    "        list: не более k наиболее похожих на label субъектов/объектов\n",
    "    \"\"\"\n",
    "    resLabels = RSim.loc[label].sort_values(ascending=False)[:k]\n",
    "    resLabels = resLabels[resLabels != 0]\n",
    "    return resLabels.index.tolist()\n",
    "\n",
    "def exampleTopMatches():\n",
    "    display(Markdown(\"**Пример topMatches**\"))\n",
    "    R = np.array([np.array([1, 0, 1]), np.array([1, 0, 1]), np.array([1, 0, 0]), np.array([5, 0, 0])])\n",
    "    labels = [\"q\", \"w\", \"r\", \"t\"]\n",
    "    rsim = getRSim(R, labels, ManhattanSim)\n",
    "    print(\"RSim:\")\n",
    "    display(rsim)\n",
    "    print(\"topMatches(rsim, \\\"w\\\", 2):\")\n",
    "    topMatch = topMatches(rsim, \"w\", 2)\n",
    "    print(topMatch)\n",
    "    print(\"Values from RSim for topMatches:\")\n",
    "    print(rsim.loc[\"w\", topMatch])\n",
    "    \n",
    "exampleTopMatches()"
   ]
  },
  {
   "cell_type": "markdown",
   "metadata": {},
   "source": [
    "# Прогноз на объекты без оценки"
   ]
  },
  {
   "cell_type": "markdown",
   "metadata": {},
   "source": [
    "Реализована функцию getRating, которая прогнозирует оценку пользователя для еще неоцененного им объекта. Функция использует результаты уже реализованной функции topMatches."
   ]
  },
  {
   "cell_type": "markdown",
   "metadata": {},
   "source": [
    "Для каждого отдельного нового объекта оценка = сумма взвешенных оценок/ сумму коэфф. схожести тех, кто оценил этот объект\n"
   ]
  },
  {
   "cell_type": "code",
   "execution_count": 21,
   "metadata": {},
   "outputs": [],
   "source": [
    "def getRating(R: np.ndarray, RSim: pd.DataFrame, label: list, k=5, verbose=False) -> np.ndarray:\n",
    "    \"\"\"\n",
    "    Считает рейтинг для label.\n",
    "    return\n",
    "        RCalculated: посчитанные оценки. При этом, размер массива равен количеству объектов в R. \n",
    "                     0 стоит для тех, объектов, для которых не производился расчёт\n",
    "    \"\"\"\n",
    "    topMatch = topMatches(RSim, label, k)\n",
    "    indexesOfTopMatches = [RSim.columns.get_loc(elem) for elem in topMatch]\n",
    "    RForLabel = R[RSim.columns.get_loc(label)]\n",
    "    RCalculated = np.zeros(R.shape[1])\n",
    "    R = R[indexesOfTopMatches] # Получили оценки только для похожих\n",
    "    topMatchValues = RSim.loc[label, topMatch]\n",
    "    \n",
    "    # При этом, сразу посчитаем их среднее взвешенное, но пока что без нормировки весов. \n",
    "    # Теперь вся задача бутет состоять в правильной нормировке, так как если оценка была 0,\n",
    "    # то это слагаемое надо не учитывать, при нормировании. \n",
    "    # нормировка будет состоять в делении полученной ненормированной оценки на сумму коэффициентов близости субъектов, \n",
    "    # для которых оценка не была 0\n",
    "    RnotNormed = R.T.dot(topMatchValues) # это ненормированное среднее взвешенное\n",
    "\n",
    "    if (verbose):\n",
    "        print(\"Значения близости:\", topMatchValues.values)\n",
    "\n",
    "    # Перебираем по каждому товару (если user-based) / пользователю (если item-based)\n",
    "    # для которого нет оценки\n",
    "    for i in np.where(RForLabel == 0)[0]: \n",
    "        r = RnotNormed[i]\n",
    "        indicesForNotZero = np.where(R.T[i] != 0)[0]\n",
    "        if (len(indicesForNotZero) == 0):\n",
    "            continue\n",
    "        r = r / sum(topMatchValues[indicesForNotZero])\n",
    "        RCalculated[i] = r\n",
    "\n",
    "        if (verbose):\n",
    "            display(Markdown(\"**i = {}**\".format(i)))\n",
    "            print(\"Это оценки от \\\"близких\\\":\", R.T[i])\n",
    "            print(\"Используем следующие индексы:\", indicesForNotZero)\n",
    "            display(Markdown(\"Полученная средневзвешенная оценка ***r = {:.2f}***\".format(r)))\n",
    "    return RCalculated\n",
    "\n",
    "def getRatingsForAll(R: np.ndarray, RSim: pd.DataFrame, k=5, verbose=False) -> np.ndarray:\n",
    "    \"\"\"\n",
    "    Считает рейтинг для всех объектов.\n",
    "    return\n",
    "        RCalculated: посчитанные оценки в такой же форме, как и R\n",
    "    \"\"\"\n",
    "    RCalculated = np.zeros_like(R)\n",
    "    labels = RSim.columns.to_list()\n",
    "    for i in tqdm(range(len(labels))):\n",
    "        if verbose :\n",
    "            display(Markdown(\"**{}**\".format(labels[i])))\n",
    "        RCalculated[i] = getRating(R, RSim, labels[i], k, verbose)\n",
    "    return RCalculated\n"
   ]
  },
  {
   "cell_type": "code",
   "execution_count": 22,
   "metadata": {},
   "outputs": [
    {
     "data": {
      "application/vnd.jupyter.widget-view+json": {
       "model_id": "4546f1830caf468dab38074f3f751baa",
       "version_major": 2,
       "version_minor": 0
      },
      "text/plain": [
       "HBox(children=(HTML(value=''), FloatProgress(value=0.0, max=19.0), HTML(value='')))"
      ]
     },
     "metadata": {},
     "output_type": "display_data"
    },
    {
     "name": "stdout",
     "output_type": "stream",
     "text": [
      "\n"
     ]
    },
    {
     "data": {
      "text/markdown": [
       "**User-based, ManhattanSim**"
      ],
      "text/plain": [
       "<IPython.core.display.Markdown object>"
      ]
     },
     "metadata": {},
     "output_type": "display_data"
    },
    {
     "name": "stdout",
     "output_type": "stream",
     "text": [
      "Количество предсказаных значений: 161\n",
      "Количество предсказаных значений, делённое на количество пользователей: 8.47\n",
      "Количество предсказаных значений, делённое на количество товаров: 8.05\n"
     ]
    },
    {
     "data": {
      "image/png": "[encoded data removed]",
      "text/plain": [
       "<Figure size 1440x360 with 6 Axes>"
      ]
     },
     "metadata": {},
     "output_type": "display_data"
    },
    {
     "data": {
      "application/vnd.jupyter.widget-view+json": {
       "model_id": "b47e153705214c6baf0681ecd0a7552c",
       "version_major": 2,
       "version_minor": 0
      },
      "text/plain": [
       "HBox(children=(HTML(value=''), FloatProgress(value=0.0, max=20.0), HTML(value='')))"
      ]
     },
     "metadata": {},
     "output_type": "display_data"
    },
    {
     "name": "stdout",
     "output_type": "stream",
     "text": [
      "\n"
     ]
    },
    {
     "data": {
      "text/markdown": [
       "**Item-based, ManhattanSim**"
      ],
      "text/plain": [
       "<IPython.core.display.Markdown object>"
      ]
     },
     "metadata": {},
     "output_type": "display_data"
    },
    {
     "name": "stdout",
     "output_type": "stream",
     "text": [
      "Количество предсказаных значений: 112\n",
      "Количество предсказаных значений, делённое на количество пользователей: 5.89\n",
      "Количество предсказаных значений, делённое на количество товаров: 5.60\n"
     ]
    },
    {
     "data": {
      "image/png": "[encoded data removed]",
      "text/plain": [
       "<Figure size 1440x360 with 6 Axes>"
      ]
     },
     "metadata": {},
     "output_type": "display_data"
    }
   ],
   "source": [
    "def visualizeRAndRCalculated(R, RCalculated, xTitle, yTitle, xListLabels, yListLabels, isAddTicks=False):\n",
    "    fig, axs = plt.subplots(nrows=1, ncols=3, figsize=(20, 5))\n",
    "    plt.sca(axs[0]) \n",
    "    visualizeR(R, xTitle, yTitle, xListLabels, yListLabels, autoFigsize=False)\n",
    "    plt.title(\"Имеющиеся оценки\")\n",
    "\n",
    "    plt.sca(axs[1]) \n",
    "    visualizeR(RCalculated, xTitle, yTitle, xListLabels, yListLabels, autoFigsize=False)\n",
    "    plt.title(\"Предсказаные оценки\")\n",
    "    \n",
    "    plt.sca(axs[2]) \n",
    "    visualizeR(R + RCalculated, xTitle, yTitle, xListLabels, yListLabels, autoFigsize=False)\n",
    "    plt.title(\"Имеющиеся оценки + предсказанные\")\n",
    "    \n",
    "\n",
    "usedSim = ManhattanSim\n",
    "\n",
    "RSim = getRSim(R, userUniqList, usedSim)\n",
    "RCalculated = getRatingsForAll(R, RSim)\n",
    "\n",
    "display(Markdown(\"**User-based, {}**\".format(usedSim.__name__)))\n",
    "print(\"Количество предсказаных значений: {}\".format((RCalculated != 0).sum()))\n",
    "print(\"Количество предсказаных значений, делённое на количество пользователей: {:.2f}\".format((RCalculated != 0).sum() / R.shape[0]))\n",
    "print(\"Количество предсказаных значений, делённое на количество товаров: {:.2f}\".format((RCalculated != 0).sum() / R.shape[1]))\n",
    "visualizeRAndRCalculated(R, RCalculated, \"Item\", \"User\", itemUniqList, userUniqList)\n",
    "plt.show()\n",
    "\n",
    "RSim = getRSim(R.T, itemUniqList, usedSim)\n",
    "RCalculated = getRatingsForAll(R.T, RSim)\n",
    "display(Markdown(\"**Item-based, {}**\".format(usedSim.__name__)))\n",
    "print(\"Количество предсказаных значений: {}\".format((RCalculated != 0).sum()))\n",
    "print(\"Количество предсказаных значений, делённое на количество пользователей: {:.2f}\".format((RCalculated != 0).sum() / R.shape[0]))\n",
    "print(\"Количество предсказаных значений, делённое на количество товаров: {:.2f}\".format((RCalculated != 0).sum() / R.shape[1]))\n",
    "visualizeRAndRCalculated(R.T, RCalculated, \"User\", \"Item\", userUniqList, itemUniqList)\n",
    "plt.show()"
   ]
  },
  {
   "cell_type": "markdown",
   "metadata": {},
   "source": [
    "# Протестировать качество алгоритма коллаборативной фильтрации"
   ]
  },
  {
   "cell_type": "markdown",
   "metadata": {},
   "source": [
    "Реализована функция calculateError, которая позволяет рассчитать среднеквадратическую ошибку"
   ]
  },
  {
   "cell_type": "code",
   "execution_count": 23,
   "metadata": {},
   "outputs": [],
   "source": [
    "def calculateError(predict: np.ndarray, actual: np.ndarray):\n",
    "    if len(predict)!=len(actual):\n",
    "        raise BaseException(\"Кол-во элементов не совпадает\")\n",
    "    if type(predict) != np.ndarray or type(actual) != np.ndarray:\n",
    "        predict = np.array(predict)\n",
    "        actual = np.array(actual)\n",
    "    return ((predict - actual)**2).sum()**0.5\n",
    "    \n",
    "# ---------------------------------------------------------------------------------\n",
    "\n",
    "assert np.isclose(calculateError(predict=[1,0,3], actual=[1,2,3]), 2)"
   ]
  },
  {
   "cell_type": "markdown",
   "metadata": {},
   "source": [
    "## Выбор пользователей и оценок для использования в качестве проверочных"
   ]
  },
  {
   "cell_type": "markdown",
   "metadata": {},
   "source": [
    "- b. Выбрать несколько (минимум 3-5) оценок из исходной матрицы R для использования в качестве проверочных при расчете среднеквадратической ошибки.\n",
    "    - i. Выберите субъекта(пользователя), для которого имеется наибольшее количество оценок объектов (при этом оценки должны  быть по объектам у которых есть не менее двух оценок от стороннего субъекта(пользователя).\n",
    "    - ii. Сохраните в отдельной структуре вектор оценок  выбранного субъекта(пользователя)\n",
    "    - iii. В исходной матрице R с оценками исключите 25-30%  значений для выбранного субъекта (заменить значение “0”). Если количество оценок мало, допустимо повторить процедуру для нескольких субъектов(пользователя) (Пример: исключить по одной оценке у трех пользователей)\n",
    "\n",
    "- c. Рассчитайте для новой матрицы с пропущенными значениями  (замененными на “0”) оценки с помощью разработанной рекомендательной системы. При этом убедитесь, что алгоритму достаточно входных данных для расчета. \n"
   ]
  },
  {
   "cell_type": "markdown",
   "metadata": {},
   "source": [
    "Для начала посмотрим количество выставленных оценок по пользователям и по товарам "
   ]
  },
  {
   "cell_type": "code",
   "execution_count": 24,
   "metadata": {},
   "outputs": [
    {
     "data": {
      "text/markdown": [
       "**Количество выставленных оценок по пользователям и по товарам**"
      ],
      "text/plain": [
       "<IPython.core.display.Markdown object>"
      ]
     },
     "metadata": {},
     "output_type": "display_data"
    },
    {
     "data": {
      "text/html": [
       "<table style=\"display:inline\" border=\"1\" class=\"dataframe\">\n",
       "  <thead>\n",
       "    <tr style=\"text-align: right;\">\n",
       "      <th></th>\n",
       "      <th>user</th>\n",
       "    </tr>\n",
       "  </thead>\n",
       "  <tbody>\n",
       "    <tr>\n",
       "      <th>A1P3RTQKM8BRBL</th>\n",
       "      <td>8</td>\n",
       "    </tr>\n",
       "    <tr>\n",
       "      <th>A2HMF8ZR67BNZS</th>\n",
       "      <td>7</td>\n",
       "    </tr>\n",
       "    <tr>\n",
       "      <th>AENRE9BP7LJMK</th>\n",
       "      <td>7</td>\n",
       "    </tr>\n",
       "    <tr>\n",
       "      <th>A1N087XH2AUKWP</th>\n",
       "      <td>6</td>\n",
       "    </tr>\n",
       "    <tr>\n",
       "      <th>A195N77NYOW2PO</th>\n",
       "      <td>5</td>\n",
       "    </tr>\n",
       "    <tr>\n",
       "      <th>A1GGWEX2RW0IRW</th>\n",
       "      <td>5</td>\n",
       "    </tr>\n",
       "    <tr>\n",
       "      <th>ALHWZSTAELK9I</th>\n",
       "      <td>5</td>\n",
       "    </tr>\n",
       "    <tr>\n",
       "      <th>A23ONMGKEWDG4M</th>\n",
       "      <td>4</td>\n",
       "    </tr>\n",
       "    <tr>\n",
       "      <th>A14Z6D3IRJ23F7</th>\n",
       "      <td>4</td>\n",
       "    </tr>\n",
       "    <tr>\n",
       "      <th>AZV2U6GU5QA6C</th>\n",
       "      <td>4</td>\n",
       "    </tr>\n",
       "    <tr>\n",
       "      <th>A1F9Z42CFF9IAY</th>\n",
       "      <td>3</td>\n",
       "    </tr>\n",
       "    <tr>\n",
       "      <th>A2XPJ5FLVMFJAY</th>\n",
       "      <td>3</td>\n",
       "    </tr>\n",
       "    <tr>\n",
       "      <th>A1U6RLUA8D5DSX</th>\n",
       "      <td>2</td>\n",
       "    </tr>\n",
       "    <tr>\n",
       "      <th>AN81JUYW2SL24</th>\n",
       "      <td>2</td>\n",
       "    </tr>\n",
       "    <tr>\n",
       "      <th>A2EMKC5VI5MZXB</th>\n",
       "      <td>2</td>\n",
       "    </tr>\n",
       "    <tr>\n",
       "      <th>ABPP6J9PWJ25O</th>\n",
       "      <td>1</td>\n",
       "    </tr>\n",
       "    <tr>\n",
       "      <th>A1EH2S92FHWZRP</th>\n",
       "      <td>1</td>\n",
       "    </tr>\n",
       "    <tr>\n",
       "      <th>AHCM2GKBTLDY6</th>\n",
       "      <td>1</td>\n",
       "    </tr>\n",
       "    <tr>\n",
       "      <th>A2V1J3JT5OOZFO</th>\n",
       "      <td>1</td>\n",
       "    </tr>\n",
       "  </tbody>\n",
       "</table style=\"display:inline\">&nbsp;&nbsp;&nbsp;&nbsp;&nbsp;&nbsp;&nbsp;&nbsp;&nbsp;&nbsp;<table style=\"display:inline\" border=\"1\" class=\"dataframe\">\n",
       "  <thead>\n",
       "    <tr style=\"text-align: right;\">\n",
       "      <th></th>\n",
       "      <th>item</th>\n",
       "    </tr>\n",
       "  </thead>\n",
       "  <tbody>\n",
       "    <tr>\n",
       "      <th>B0009IQZH0</th>\n",
       "      <td>5</td>\n",
       "    </tr>\n",
       "    <tr>\n",
       "      <th>B001O7PNNM</th>\n",
       "      <td>5</td>\n",
       "    </tr>\n",
       "    <tr>\n",
       "      <th>B0009IQXM2</th>\n",
       "      <td>4</td>\n",
       "    </tr>\n",
       "    <tr>\n",
       "      <th>B0002SQVNA</th>\n",
       "      <td>4</td>\n",
       "    </tr>\n",
       "    <tr>\n",
       "      <th>B00B7GC50Y</th>\n",
       "      <td>4</td>\n",
       "    </tr>\n",
       "    <tr>\n",
       "      <th>B00353PWAW</th>\n",
       "      <td>4</td>\n",
       "    </tr>\n",
       "    <tr>\n",
       "      <th>B001LHVOVK</th>\n",
       "      <td>4</td>\n",
       "    </tr>\n",
       "    <tr>\n",
       "      <th>B0009IQZFM</th>\n",
       "      <td>4</td>\n",
       "    </tr>\n",
       "    <tr>\n",
       "      <th>B0002VAZA2</th>\n",
       "      <td>4</td>\n",
       "    </tr>\n",
       "    <tr>\n",
       "      <th>B0024E6QX0</th>\n",
       "      <td>3</td>\n",
       "    </tr>\n",
       "    <tr>\n",
       "      <th>B000BUOSGG</th>\n",
       "      <td>3</td>\n",
       "    </tr>\n",
       "    <tr>\n",
       "      <th>B001O7PNXC</th>\n",
       "      <td>3</td>\n",
       "    </tr>\n",
       "    <tr>\n",
       "      <th>B003BZD03K</th>\n",
       "      <td>3</td>\n",
       "    </tr>\n",
       "    <tr>\n",
       "      <th>B002G29LLE</th>\n",
       "      <td>3</td>\n",
       "    </tr>\n",
       "    <tr>\n",
       "      <th>B00480FHG0</th>\n",
       "      <td>3</td>\n",
       "    </tr>\n",
       "    <tr>\n",
       "      <th>B0000AY9W6</th>\n",
       "      <td>3</td>\n",
       "    </tr>\n",
       "    <tr>\n",
       "      <th>B001V8U12M</th>\n",
       "      <td>3</td>\n",
       "    </tr>\n",
       "    <tr>\n",
       "      <th>B0009IQXCM</th>\n",
       "      <td>3</td>\n",
       "    </tr>\n",
       "    <tr>\n",
       "      <th>B000AMLWH8</th>\n",
       "      <td>3</td>\n",
       "    </tr>\n",
       "    <tr>\n",
       "      <th>B0002KKHS8</th>\n",
       "      <td>3</td>\n",
       "    </tr>\n",
       "  </tbody>\n",
       "</table style=\"display:inline\">&nbsp;&nbsp;&nbsp;&nbsp;&nbsp;&nbsp;&nbsp;&nbsp;&nbsp;&nbsp;"
      ],
      "text/plain": [
       "<IPython.core.display.HTML object>"
      ]
     },
     "metadata": {},
     "output_type": "display_data"
    }
   ],
   "source": [
    "def displayDFSideBySide(*args):\n",
    "    \"\"\"\n",
    "    args: pandas.DataFrame objects\n",
    "    \"\"\"\n",
    "    htmlStr=''\n",
    "    for df in args:\n",
    "        htmlStr += df.to_html()\n",
    "        htmlStr += \"&nbsp;\" * 10\n",
    "    display(HTML(htmlStr.replace('table','table style=\"display:inline\"')))\n",
    "\n",
    "rankingsUserCounts = rankings[\"user\"].value_counts()\n",
    "rankingsItemCounts = rankings[\"item\"].value_counts()\n",
    "display(Markdown(\"**Количество выставленных оценок по пользователям и по товарам**\"))\n",
    "displayDFSideBySide(rankingsUserCounts.to_frame(), rankingsItemCounts.to_frame())"
   ]
  },
  {
   "cell_type": "markdown",
   "metadata": {},
   "source": [
    "Возьмём из первых 8 пользователей случайным образом (перемешиваем товары внутри выбрвнного пользователя) по 2 оценки"
   ]
  },
  {
   "cell_type": "code",
   "execution_count": 25,
   "metadata": {},
   "outputs": [],
   "source": [
    "import random\n",
    "\n",
    "# Использую как счётчики\n",
    "rankingsUserCountsAfterSplit = rankingsUserCounts.copy()\n",
    "rankingsItemCountsAfterSplit = rankingsItemCounts.copy()\n",
    "\n",
    "# В цикле далее из rankingsTrain будем выкидывать значения, которые пойдут в проверочную выборку rankingsTest\n",
    "rankingsTrain = rankings.copy() \n",
    "rankingsTest = pd.DataFrame(columns=rankings.columns) # Пустой, заполняется в цикле далее\n",
    "\n",
    "random.seed(20201202) # Чтобы результаты перемешивания были воспроизводимы\n",
    "# Два раза в цикле проходим по первым 8 пользователям с наибольшим кол-вом оценок\n",
    "for user in rankingsUserCounts[:8].index.tolist() * 2:\n",
    "    itemsForUser = rankingsTrain.loc[rankings[\"user\"] == user, \"item\"].sort_values().tolist()\n",
    "    random.shuffle(itemsForUser)\n",
    "    for item in itemsForUser:\n",
    "        if (rankingsItemCountsAfterSplit[item] > 1):\n",
    "            rankingsItemCountsAfterSplit[item] -= 1\n",
    "            rankingsUserCountsAfterSplit[user] -= 1\n",
    "            curRanking = rankingsTrain[(rankingsTrain[\"user\"] == user) & (rankingsTrain[\"item\"] == item)]\n",
    "            rankingsTest = rankingsTest.append(curRanking)\n",
    "            rankingsTrain.drop(curRanking.index[0], inplace=True)\n",
    "            break\n",
    "\n",
    "rankingsTrain.reset_index(drop=True, inplace=True)\n",
    "rankingsTest.reset_index(drop=True, inplace=True)\n"
   ]
  },
  {
   "cell_type": "code",
   "execution_count": 26,
   "metadata": {},
   "outputs": [
    {
     "name": "stdout",
     "output_type": "stream",
     "text": [
      "Количество образцов в обучающей выборке: 55\n",
      "Количество образцов в проверочной выборке: 16\n",
      "Количество образцов в проверочной выборке в процентном соотношении: 22.5%\n"
     ]
    }
   ],
   "source": [
    "print(\"Количество образцов в обучающей выборке:\", len(rankingsTrain))\n",
    "print(\"Количество образцов в проверочной выборке:\", len(rankingsTest))\n",
    "print(\"Количество образцов в проверочной выборке в процентном соотношении: {:.1f}%\".format(len(rankingsTest) / len(rankings) * 100))\n"
   ]
  },
  {
   "cell_type": "markdown",
   "metadata": {},
   "source": [
    "### Визуализируем тренировочную и тестовую выборки"
   ]
  },
  {
   "cell_type": "code",
   "execution_count": 27,
   "metadata": {},
   "outputs": [
    {
     "data": {
      "application/vnd.jupyter.widget-view+json": {
       "model_id": "a901db11f23747aab8bbb11182cb954f",
       "version_major": 2,
       "version_minor": 0
      },
      "text/plain": [
       "HBox(children=(HTML(value=''), FloatProgress(value=0.0, max=55.0), HTML(value='')))"
      ]
     },
     "metadata": {},
     "output_type": "display_data"
    },
    {
     "name": "stdout",
     "output_type": "stream",
     "text": [
      "\n"
     ]
    },
    {
     "data": {
      "application/vnd.jupyter.widget-view+json": {
       "model_id": "e4681e27b9e44ce6a857e9e3c7eded23",
       "version_major": 2,
       "version_minor": 0
      },
      "text/plain": [
       "HBox(children=(HTML(value=''), FloatProgress(value=0.0, max=16.0), HTML(value='')))"
      ]
     },
     "metadata": {},
     "output_type": "display_data"
    },
    {
     "name": "stdout",
     "output_type": "stream",
     "text": [
      "\n"
     ]
    },
    {
     "data": {
      "image/png": "[encoded data removed]",
      "text/plain": [
       "<Figure size 1008x360 with 4 Axes>"
      ]
     },
     "metadata": {},
     "output_type": "display_data"
    },
    {
     "name": "stdout",
     "output_type": "stream",
     "text": [
      "Заполненность матрицы RTrain: 14.47\n",
      "Заполненность матрицы RTest: 4.21\n"
     ]
    }
   ],
   "source": [
    "RTrain = createR(rankingsTrain, userUniqList, itemUniqList)\n",
    "RTest = createR(rankingsTest, userUniqList, itemUniqList)\n",
    "\n",
    "\n",
    "fig, axs = plt.subplots(nrows=1, ncols=2, figsize=(14, 5))\n",
    "plt.sca(axs[0]) \n",
    "visualizeR(RTrain, \"Item\", \"User\", itemUniqList, userUniqList, autoFigsize=False)\n",
    "plt.title(\"RTrain\")\n",
    "\n",
    "plt.sca(axs[1]) \n",
    "visualizeR(RTest, \"Item\", \"User\", itemUniqList, userUniqList, autoFigsize=False)\n",
    "plt.title(\"RTest\")\n",
    "plt.show()\n",
    "\n",
    "print(\"Заполненность матрицы RTrain: {:.2f}\".format((RTrain != 0).sum() / (RTrain.shape[0] * RTrain.shape[1]) * 100))\n",
    "print(\"Заполненность матрицы RTest: {:.2f}\".format((RTest != 0).sum() / (RTest.shape[0] * RTest.shape[1]) * 100))\n"
   ]
  },
  {
   "cell_type": "markdown",
   "metadata": {},
   "source": [
    "### Получение предсказаний для RTrain и сравнение с RTest"
   ]
  },
  {
   "cell_type": "markdown",
   "metadata": {},
   "source": [
    "*Замечание*: Среднеквадратичная ошибка считается для ненулевых предсказанных значений"
   ]
  },
  {
   "cell_type": "code",
   "execution_count": 28,
   "metadata": {},
   "outputs": [],
   "source": [
    "def compareRTrainAndRTest(RTrain: np.ndarray, RTest: np.ndarray, xLabelsList, yLabelsList, isPlot=False):\n",
    "    markersForPlot = iter([\"x\", \"<\", \"^\", \"o\", \"*\"])\n",
    "    RTest = RTest.flat.copy() # Легче работать с одномерными массивами\n",
    "    for simClass in [EuclideSim, ManhattanSim, PearsonSim, JaccardSim, CosinusSim]:\n",
    "        display(Markdown(\"**{}**\".format(simClass.__name__)))\n",
    "        RSim = getRSim(RTrain, yLabelsList, simClass)\n",
    "        RPredicted = getRatingsForAll(RTrain, RSim).flat.copy()\n",
    "        print(\"Предсказано значений: {} / {}\".format((RPredicted != 0).sum(), (RTrain == 0).sum() - (RTest != 0).sum()))\n",
    "        # Занулим те значения, для которых не можем оценить качество предсказания\n",
    "        RPredicted[RTest == 0] = 0\n",
    "        print(\"Количество не предсказанных значений из тех, которые можем проверить:\", \n",
    "              len(RPredicted[(RTest != 0) & (RPredicted == 0)]))\n",
    "        print(\"Среднеквадратичная ошибка:{:.1f}\".format(calculateError(RPredicted[RPredicted != 0], \n",
    "                                                                       RTest[RPredicted != 0])))\n",
    "        if isPlot:\n",
    "            plt.scatter(RTest[RTest != 0], RPredicted[RTest != 0], label=simClass.__name__,\n",
    "                       marker=next(markersForPlot), s=80, alpha=0.7)\n",
    "        print(\"-+\"*15, \"\\n\")\n",
    "    if isPlot:\n",
    "        plt.plot( [0,5], [0,5], lw=2, color='gray', linestyle='dashed',) # график проверочный\n",
    "        plt.legend(loc=\"lower left\")  # отобразить легенду\n",
    "        plt.xlabel('Реальные(проверочные)') # посдпись оси X\n",
    "        plt.ylabel('Вычисленные')           # посдпись оси Y\n",
    "        plt.xlim([-0.1,5.1]) # диапазон значений X\n",
    "        plt.ylim([-0.1,5.1]) # диапазон значений Y"
   ]
  },
  {
   "cell_type": "markdown",
   "metadata": {},
   "source": [
    "#### User-based"
   ]
  },
  {
   "cell_type": "code",
   "execution_count": 29,
   "metadata": {},
   "outputs": [
    {
     "data": {
      "text/markdown": [
       "**EuclideSim**"
      ],
      "text/plain": [
       "<IPython.core.display.Markdown object>"
      ]
     },
     "metadata": {},
     "output_type": "display_data"
    },
    {
     "data": {
      "application/vnd.jupyter.widget-view+json": {
       "model_id": "e7a3f0f5eab844f2a66c1f7cc436ef23",
       "version_major": 2,
       "version_minor": 0
      },
      "text/plain": [
       "HBox(children=(HTML(value=''), FloatProgress(value=0.0, max=19.0), HTML(value='')))"
      ]
     },
     "metadata": {},
     "output_type": "display_data"
    },
    {
     "name": "stdout",
     "output_type": "stream",
     "text": [
      "\n",
      "Предсказано значений: 128 / 309\n",
      "Количество не предсказанных значений из тех, которые можем проверить: 5\n",
      "Среднеквадратичная ошибка:5.2\n",
      "-+-+-+-+-+-+-+-+-+-+-+-+-+-+-+ \n",
      "\n"
     ]
    },
    {
     "data": {
      "text/markdown": [
       "**ManhattanSim**"
      ],
      "text/plain": [
       "<IPython.core.display.Markdown object>"
      ]
     },
     "metadata": {},
     "output_type": "display_data"
    },
    {
     "data": {
      "application/vnd.jupyter.widget-view+json": {
       "model_id": "25f9d6175ef84d45bc14f1f408104ce3",
       "version_major": 2,
       "version_minor": 0
      },
      "text/plain": [
       "HBox(children=(HTML(value=''), FloatProgress(value=0.0, max=19.0), HTML(value='')))"
      ]
     },
     "metadata": {},
     "output_type": "display_data"
    },
    {
     "name": "stdout",
     "output_type": "stream",
     "text": [
      "\n",
      "Предсказано значений: 129 / 309\n",
      "Количество не предсказанных значений из тех, которые можем проверить: 5\n",
      "Среднеквадратичная ошибка:5.1\n",
      "-+-+-+-+-+-+-+-+-+-+-+-+-+-+-+ \n",
      "\n"
     ]
    },
    {
     "data": {
      "text/markdown": [
       "**PearsonSim**"
      ],
      "text/plain": [
       "<IPython.core.display.Markdown object>"
      ]
     },
     "metadata": {},
     "output_type": "display_data"
    },
    {
     "data": {
      "application/vnd.jupyter.widget-view+json": {
       "model_id": "d06555a6b06746b88f281d987d7ac601",
       "version_major": 2,
       "version_minor": 0
      },
      "text/plain": [
       "HBox(children=(HTML(value=''), FloatProgress(value=0.0, max=19.0), HTML(value='')))"
      ]
     },
     "metadata": {},
     "output_type": "display_data"
    },
    {
     "name": "stdout",
     "output_type": "stream",
     "text": [
      "\n",
      "Предсказано значений: 126 / 309\n",
      "Количество не предсказанных значений из тех, которые можем проверить: 5\n",
      "Среднеквадратичная ошибка:5.0\n",
      "-+-+-+-+-+-+-+-+-+-+-+-+-+-+-+ \n",
      "\n"
     ]
    },
    {
     "data": {
      "text/markdown": [
       "**JaccardSim**"
      ],
      "text/plain": [
       "<IPython.core.display.Markdown object>"
      ]
     },
     "metadata": {},
     "output_type": "display_data"
    },
    {
     "data": {
      "application/vnd.jupyter.widget-view+json": {
       "model_id": "cabe1f95b5884e16b4a938af5d3668c6",
       "version_major": 2,
       "version_minor": 0
      },
      "text/plain": [
       "HBox(children=(HTML(value=''), FloatProgress(value=0.0, max=19.0), HTML(value='')))"
      ]
     },
     "metadata": {},
     "output_type": "display_data"
    },
    {
     "name": "stdout",
     "output_type": "stream",
     "text": [
      "\n",
      "Предсказано значений: 138 / 309\n",
      "Количество не предсказанных значений из тех, которые можем проверить: 3\n",
      "Среднеквадратичная ошибка:5.1\n",
      "-+-+-+-+-+-+-+-+-+-+-+-+-+-+-+ \n",
      "\n"
     ]
    },
    {
     "data": {
      "text/markdown": [
       "**CosinusSim**"
      ],
      "text/plain": [
       "<IPython.core.display.Markdown object>"
      ]
     },
     "metadata": {},
     "output_type": "display_data"
    },
    {
     "data": {
      "application/vnd.jupyter.widget-view+json": {
       "model_id": "e724134244034e4bb5e9fec26ef4adff",
       "version_major": 2,
       "version_minor": 0
      },
      "text/plain": [
       "HBox(children=(HTML(value=''), FloatProgress(value=0.0, max=19.0), HTML(value='')))"
      ]
     },
     "metadata": {},
     "output_type": "display_data"
    },
    {
     "name": "stdout",
     "output_type": "stream",
     "text": [
      "\n",
      "Предсказано значений: 134 / 309\n",
      "Количество не предсказанных значений из тех, которые можем проверить: 3\n",
      "Среднеквадратичная ошибка:5.2\n",
      "-+-+-+-+-+-+-+-+-+-+-+-+-+-+-+ \n",
      "\n"
     ]
    },
    {
     "data": {
      "image/png": "[encoded data removed]",
      "text/plain": [
       "<Figure size 576x396 with 1 Axes>"
      ]
     },
     "metadata": {},
     "output_type": "display_data"
    }
   ],
   "source": [
    "compareRTrainAndRTest(RTrain, RTest, itemUniqList, userUniqList, isPlot=True)"
   ]
  },
  {
   "cell_type": "markdown",
   "metadata": {},
   "source": [
    "#### Item-based"
   ]
  },
  {
   "cell_type": "code",
   "execution_count": 30,
   "metadata": {},
   "outputs": [
    {
     "data": {
      "text/markdown": [
       "**EuclideSim**"
      ],
      "text/plain": [
       "<IPython.core.display.Markdown object>"
      ]
     },
     "metadata": {},
     "output_type": "display_data"
    },
    {
     "data": {
      "application/vnd.jupyter.widget-view+json": {
       "model_id": "c29b7c0afd844b248bd8d2c5a1ee7589",
       "version_major": 2,
       "version_minor": 0
      },
      "text/plain": [
       "HBox(children=(HTML(value=''), FloatProgress(value=0.0, max=20.0), HTML(value='')))"
      ]
     },
     "metadata": {},
     "output_type": "display_data"
    },
    {
     "name": "stdout",
     "output_type": "stream",
     "text": [
      "\n",
      "Предсказано значений: 109 / 309\n",
      "Количество не предсказанных значений из тех, которые можем проверить: 3\n",
      "Среднеквадратичная ошибка:3.1\n",
      "-+-+-+-+-+-+-+-+-+-+-+-+-+-+-+ \n",
      "\n"
     ]
    },
    {
     "data": {
      "text/markdown": [
       "**ManhattanSim**"
      ],
      "text/plain": [
       "<IPython.core.display.Markdown object>"
      ]
     },
     "metadata": {},
     "output_type": "display_data"
    },
    {
     "data": {
      "application/vnd.jupyter.widget-view+json": {
       "model_id": "7a22f7a281984f699b9c2fb047bce0fc",
       "version_major": 2,
       "version_minor": 0
      },
      "text/plain": [
       "HBox(children=(HTML(value=''), FloatProgress(value=0.0, max=20.0), HTML(value='')))"
      ]
     },
     "metadata": {},
     "output_type": "display_data"
    },
    {
     "name": "stdout",
     "output_type": "stream",
     "text": [
      "\n",
      "Предсказано значений: 108 / 309\n",
      "Количество не предсказанных значений из тех, которые можем проверить: 3\n",
      "Среднеквадратичная ошибка:3.1\n",
      "-+-+-+-+-+-+-+-+-+-+-+-+-+-+-+ \n",
      "\n"
     ]
    },
    {
     "data": {
      "text/markdown": [
       "**PearsonSim**"
      ],
      "text/plain": [
       "<IPython.core.display.Markdown object>"
      ]
     },
     "metadata": {},
     "output_type": "display_data"
    },
    {
     "data": {
      "application/vnd.jupyter.widget-view+json": {
       "model_id": "d01f90ae1765426698e94aa4a6f87831",
       "version_major": 2,
       "version_minor": 0
      },
      "text/plain": [
       "HBox(children=(HTML(value=''), FloatProgress(value=0.0, max=20.0), HTML(value='')))"
      ]
     },
     "metadata": {},
     "output_type": "display_data"
    },
    {
     "name": "stdout",
     "output_type": "stream",
     "text": [
      "\n",
      "Предсказано значений: 111 / 309\n",
      "Количество не предсказанных значений из тех, которые можем проверить: 2\n",
      "Среднеквадратичная ошибка:2.9\n",
      "-+-+-+-+-+-+-+-+-+-+-+-+-+-+-+ \n",
      "\n"
     ]
    },
    {
     "data": {
      "text/markdown": [
       "**JaccardSim**"
      ],
      "text/plain": [
       "<IPython.core.display.Markdown object>"
      ]
     },
     "metadata": {},
     "output_type": "display_data"
    },
    {
     "data": {
      "application/vnd.jupyter.widget-view+json": {
       "model_id": "b88fe23b3cd743e3aa0eeb8b06794d7a",
       "version_major": 2,
       "version_minor": 0
      },
      "text/plain": [
       "HBox(children=(HTML(value=''), FloatProgress(value=0.0, max=20.0), HTML(value='')))"
      ]
     },
     "metadata": {},
     "output_type": "display_data"
    },
    {
     "name": "stdout",
     "output_type": "stream",
     "text": [
      "\n",
      "Предсказано значений: 121 / 309\n",
      "Количество не предсказанных значений из тех, которые можем проверить: 2\n",
      "Среднеквадратичная ошибка:2.5\n",
      "-+-+-+-+-+-+-+-+-+-+-+-+-+-+-+ \n",
      "\n"
     ]
    },
    {
     "data": {
      "text/markdown": [
       "**CosinusSim**"
      ],
      "text/plain": [
       "<IPython.core.display.Markdown object>"
      ]
     },
     "metadata": {},
     "output_type": "display_data"
    },
    {
     "data": {
      "application/vnd.jupyter.widget-view+json": {
       "model_id": "fc8dcde7951d43e4874f933d2cfec5af",
       "version_major": 2,
       "version_minor": 0
      },
      "text/plain": [
       "HBox(children=(HTML(value=''), FloatProgress(value=0.0, max=20.0), HTML(value='')))"
      ]
     },
     "metadata": {},
     "output_type": "display_data"
    },
    {
     "name": "stdout",
     "output_type": "stream",
     "text": [
      "\n",
      "Предсказано значений: 115 / 309\n",
      "Количество не предсказанных значений из тех, которые можем проверить: 2\n",
      "Среднеквадратичная ошибка:2.6\n",
      "-+-+-+-+-+-+-+-+-+-+-+-+-+-+-+ \n",
      "\n"
     ]
    },
    {
     "data": {
      "image/png": "[encoded data removed]",
      "text/plain": [
       "<Figure size 576x396 with 1 Axes>"
      ]
     },
     "metadata": {},
     "output_type": "display_data"
    }
   ],
   "source": [
    "compareRTrainAndRTest(RTrain.T, RTest.T, userUniqList, itemUniqList, isPlot=True)"
   ]
  },
  {
   "cell_type": "markdown",
   "metadata": {},
   "source": [
    "### Выводы по оценке качества предсказаний по методам user-based и item-based\n",
    "\n",
    "Из общего количества оценок (71) было выделено 22.5% под тестовый набор данных для проведения оценки качества предсказаний по методам коллаборативной фильтрации методами user-based и item-based для 5 функций схожести (EuclideSim, ManhattanSim, PearsonSim, JaccardSim, CosinusSim).\n",
    "\n",
    "Можно отметить общую тенденцию: чем меньше алгоритм отвечает, тем лучше его среднеквадратичная ошибка.\n",
    "При этом, при одинаковом количестве непредсказанных значений алгоритмы имеют примерно одинаковые результаты (внутри item-based и user-based по отдельности).\n",
    "Поэтому будем сравнивать отдельно алгоритмы на основе различных методов схожести по общему количеству предсказанных значений и количеству значений, в которых алгоритм воздержался. Также отдельно сравним user-based и item-based.\n",
    "\n",
    "В user-based алгоритме коллаборативной фильтрации наиболее \"воздержанным\" от предсказаний оказался алгоритм с PearsonSim. Алгоритм с JaccardSim имеет наибольшее количество предсказанных значений. Интересно, что среди всех алгоритмов с одним и тем же кол-вом не предсказанных значений, этот алгоритм имеет чуть меньшую ошибку (возможно, это случай на изображении, где все алгоритмы вместо 4 ответили 5, а JaccardSim примерно 4.7).\n",
    "\n",
    "В item-based алгоритм с PearsonSim на удивление показал наибольшее кол-во предсказаний и ошибку чуть большую по сравнению с EuclideSim и ManhattanSim. \n",
    "\n",
    "В user-based алгоритмы предсказали больше значений по сравнению с item-based, но и имеют чуть большую ошибку. При этом, в первом случае алгоритмы имеют больший размах в количестве предсказаний, для item-based алгоритмы показывают более стабильный результат"
   ]
  },
  {
   "cell_type": "markdown",
   "metadata": {},
   "source": [
    "# Выводы\n",
    "\n",
    "Проведены анализ и предобработка имеющихся данных. Получена матрица оценок R, реализованы методы описания и визуализации данной матрицы. Реализованы функции схожести для всех 5 представленных в задании методов. Реализованы методы коллаборативной фильтрации user-based и item-based для 5 функций схожести (EuclideSim, ManhattanSim, PearsonSim, JaccardSim, CosinusSim), проведена оценка качества полученных алгоритмов"
   ]
  }
 ],
 "metadata": {
  "kernelspec": {
   "display_name": "Python 3",
   "language": "python",
   "name": "python3"
  },
  "language_info": {
   "codemirror_mode": {
    "name": "ipython",
    "version": 3
   },
   "file_extension": ".py",
   "mimetype": "text/x-python",
   "name": "python",
   "nbconvert_exporter": "python",
   "pygments_lexer": "ipython3",
   "version": "3.7.9"
  }
 },
 "nbformat": 4,
 "nbformat_minor": 4
}
