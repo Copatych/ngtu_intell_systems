{
 "cells": [
  {
   "cell_type": "markdown",
   "metadata": {},
   "source": [
    "# Лабораторные   работы   1-2 \n",
    "# «Разработка   рекомендательного   сервиса» \n",
    "\n",
    "Выполнил: xxx xxx xxxович, Группа xxx, вариант 5\n",
    "\n",
    "Цель работы:\n",
    " 1. Изучить возможности процедур работы с данными с использованием языка разработки Python \n",
    " 2. Разработать элементы функций рекомендательного сервиса на основе метода коллаборативной фильтрации "
   ]
  },
  {
   "cell_type": "code",
   "execution_count": 1,
   "metadata": {},
   "outputs": [],
   "source": [
    "import pandas as pd\n",
    "import numpy as np\n",
    "import matplotlib.pyplot as plt\n",
    "\n",
    "#pretty plots\n",
    "import seaborn as sns\n",
    "plt.style.use('seaborn')\n",
    "\n",
    "#for good visualisation in notebook\n",
    "from IPython.core.display import display, HTML, Markdown\n",
    "\n",
    "# Progress bar for a “for” loop\n",
    "from tqdm.notebook import tqdm"
   ]
  },
  {
   "cell_type": "markdown",
   "metadata": {},
   "source": [
    "## Первичное знакомство с данными"
   ]
  },
  {
   "cell_type": "markdown",
   "metadata": {},
   "source": [
    "### Metadata\n",
    "- reviewerID - ID of the reviewer, e.g. A2SUAM1J3GNN3B\n",
    "- asin - ID of the product, e.g. 0000013714   https://www.amazon.com/dp/0000013714\n",
    "- reviewerName - name of the reviewer\n",
    "- helpful - helpfulness rating of the review, e.g. 2/3\n",
    "- reviewText - text of the review\n",
    "- overall - rating of the product\n",
    "- summary - summary of the review\n",
    "- unixReviewTime - time of the review (unix time)\n",
    "- reviewTime - time of the review (raw)"
   ]
  },
  {
   "cell_type": "code",
   "execution_count": 2,
   "metadata": {
    "scrolled": true
   },
   "outputs": [
    {
     "data": {
      "text/html": [
       "<div>\n",
       "<style scoped>\n",
       "    .dataframe tbody tr th:only-of-type {\n",
       "        vertical-align: middle;\n",
       "    }\n",
       "\n",
       "    .dataframe tbody tr th {\n",
       "        vertical-align: top;\n",
       "    }\n",
       "\n",
       "    .dataframe thead th {\n",
       "        text-align: right;\n",
       "    }\n",
       "</style>\n",
       "<table border=\"1\" class=\"dataframe\">\n",
       "  <thead>\n",
       "    <tr style=\"text-align: right;\">\n",
       "      <th></th>\n",
       "      <th>reviewerID</th>\n",
       "      <th>asin</th>\n",
       "      <th>reviewerName</th>\n",
       "      <th>helpful</th>\n",
       "      <th>reviewText</th>\n",
       "      <th>overall</th>\n",
       "      <th>summary</th>\n",
       "      <th>unixReviewTime</th>\n",
       "      <th>reviewTime</th>\n",
       "    </tr>\n",
       "  </thead>\n",
       "  <tbody>\n",
       "    <tr>\n",
       "      <th>0</th>\n",
       "      <td>A3F73SC1LY51OO</td>\n",
       "      <td>B00002243X</td>\n",
       "      <td>Alan Montgomery</td>\n",
       "      <td>[4, 4]</td>\n",
       "      <td>I needed a set of jumper cables for my new car...</td>\n",
       "      <td>5</td>\n",
       "      <td>Work Well - Should Have Bought Longer Ones</td>\n",
       "      <td>1313539200</td>\n",
       "      <td>08 17, 2011</td>\n",
       "    </tr>\n",
       "    <tr>\n",
       "      <th>1</th>\n",
       "      <td>A20S66SKYXULG2</td>\n",
       "      <td>B00002243X</td>\n",
       "      <td>alphonse</td>\n",
       "      <td>[1, 1]</td>\n",
       "      <td>These long cables work fine for my truck, but ...</td>\n",
       "      <td>4</td>\n",
       "      <td>Okay long cables</td>\n",
       "      <td>1315094400</td>\n",
       "      <td>09 4, 2011</td>\n",
       "    </tr>\n",
       "    <tr>\n",
       "      <th>2</th>\n",
       "      <td>A2I8LFSN2IS5EO</td>\n",
       "      <td>B00002243X</td>\n",
       "      <td>Chris</td>\n",
       "      <td>[0, 0]</td>\n",
       "      <td>Can't comment much on these since they have no...</td>\n",
       "      <td>5</td>\n",
       "      <td>Looks and feels heavy Duty</td>\n",
       "      <td>1374710400</td>\n",
       "      <td>07 25, 2013</td>\n",
       "    </tr>\n",
       "    <tr>\n",
       "      <th>3</th>\n",
       "      <td>A3GT2EWQSO45ZG</td>\n",
       "      <td>B00002243X</td>\n",
       "      <td>DeusEx</td>\n",
       "      <td>[19, 19]</td>\n",
       "      <td>I absolutley love Amazon!!!  For the price of ...</td>\n",
       "      <td>5</td>\n",
       "      <td>Excellent choice for Jumper Cables!!!</td>\n",
       "      <td>1292889600</td>\n",
       "      <td>12 21, 2010</td>\n",
       "    </tr>\n",
       "    <tr>\n",
       "      <th>4</th>\n",
       "      <td>A3ESWJPAVRPWB4</td>\n",
       "      <td>B00002243X</td>\n",
       "      <td>E. Hernandez</td>\n",
       "      <td>[0, 0]</td>\n",
       "      <td>I purchased the 12' feet long cable set and th...</td>\n",
       "      <td>5</td>\n",
       "      <td>Excellent, High Quality Starter Cables</td>\n",
       "      <td>1341360000</td>\n",
       "      <td>07 4, 2012</td>\n",
       "    </tr>\n",
       "  </tbody>\n",
       "</table>\n",
       "</div>"
      ],
      "text/plain": [
       "       reviewerID        asin     reviewerName   helpful  \\\n",
       "0  A3F73SC1LY51OO  B00002243X  Alan Montgomery    [4, 4]   \n",
       "1  A20S66SKYXULG2  B00002243X         alphonse    [1, 1]   \n",
       "2  A2I8LFSN2IS5EO  B00002243X            Chris    [0, 0]   \n",
       "3  A3GT2EWQSO45ZG  B00002243X           DeusEx  [19, 19]   \n",
       "4  A3ESWJPAVRPWB4  B00002243X     E. Hernandez    [0, 0]   \n",
       "\n",
       "                                          reviewText  overall  \\\n",
       "0  I needed a set of jumper cables for my new car...        5   \n",
       "1  These long cables work fine for my truck, but ...        4   \n",
       "2  Can't comment much on these since they have no...        5   \n",
       "3  I absolutley love Amazon!!!  For the price of ...        5   \n",
       "4  I purchased the 12' feet long cable set and th...        5   \n",
       "\n",
       "                                      summary  unixReviewTime   reviewTime  \n",
       "0  Work Well - Should Have Bought Longer Ones      1313539200  08 17, 2011  \n",
       "1                            Okay long cables      1315094400   09 4, 2011  \n",
       "2                  Looks and feels heavy Duty      1374710400  07 25, 2013  \n",
       "3       Excellent choice for Jumper Cables!!!      1292889600  12 21, 2010  \n",
       "4      Excellent, High Quality Starter Cables      1341360000   07 4, 2012  "
      ]
     },
     "metadata": {},
     "output_type": "display_data"
    },
    {
     "data": {
      "text/plain": [
       "(20473, 9)"
      ]
     },
     "metadata": {},
     "output_type": "display_data"
    }
   ],
   "source": [
    "df = pd.read_csv(\"datasets/05.Amazon_Automotive/05.Amazon Automotive.csv\")\n",
    "display(df.head())\n",
    "display(df.shape)"
   ]
  },
  {
   "cell_type": "code",
   "execution_count": 3,
   "metadata": {
    "scrolled": true
   },
   "outputs": [
    {
     "data": {
      "text/html": [
       "<h1 style=\"background-color:#FFAA00;\">reviewerID</h1>"
      ],
      "text/plain": [
       "<IPython.core.display.HTML object>"
      ]
     },
     "metadata": {},
     "output_type": "display_data"
    },
    {
     "data": {
      "text/plain": [
       "count              20473\n",
       "unique              2928\n",
       "top       A2V1J3JT5OOZFO\n",
       "freq                  51\n",
       "Name: reviewerID, dtype: object"
      ]
     },
     "metadata": {},
     "output_type": "display_data"
    },
    {
     "data": {
      "text/html": [
       "<h1 style=\"background-color:#FFAA00;\">asin</h1>"
      ],
      "text/plain": [
       "<IPython.core.display.HTML object>"
      ]
     },
     "metadata": {},
     "output_type": "display_data"
    },
    {
     "data": {
      "text/plain": [
       "count          20473\n",
       "unique          1835\n",
       "top       B000CITK8S\n",
       "freq             169\n",
       "Name: asin, dtype: object"
      ]
     },
     "metadata": {},
     "output_type": "display_data"
    },
    {
     "data": {
      "text/html": [
       "<h1 style=\"background-color:#FFAA00;\">reviewerName</h1>"
      ],
      "text/plain": [
       "<IPython.core.display.HTML object>"
      ]
     },
     "metadata": {},
     "output_type": "display_data"
    },
    {
     "data": {
      "text/plain": [
       "count               20260\n",
       "unique               2788\n",
       "top       Amazon Customer\n",
       "freq                  173\n",
       "Name: reviewerName, dtype: object"
      ]
     },
     "metadata": {},
     "output_type": "display_data"
    },
    {
     "data": {
      "text/html": [
       "<h1 style=\"background-color:#FFAA00;\">helpful</h1>"
      ],
      "text/plain": [
       "<IPython.core.display.HTML object>"
      ]
     },
     "metadata": {},
     "output_type": "display_data"
    },
    {
     "data": {
      "text/plain": [
       "count      20473\n",
       "unique       380\n",
       "top       [0, 0]\n",
       "freq       12844\n",
       "Name: helpful, dtype: object"
      ]
     },
     "metadata": {},
     "output_type": "display_data"
    },
    {
     "data": {
      "text/html": [
       "<h1 style=\"background-color:#FFAA00;\">reviewText</h1>"
      ],
      "text/plain": [
       "<IPython.core.display.HTML object>"
      ]
     },
     "metadata": {},
     "output_type": "display_data"
    },
    {
     "data": {
      "text/plain": [
       "count                                                 20467\n",
       "unique                                                20467\n",
       "top       I separated these into several small sandwich ...\n",
       "freq                                                      1\n",
       "Name: reviewText, dtype: object"
      ]
     },
     "metadata": {},
     "output_type": "display_data"
    },
    {
     "data": {
      "text/html": [
       "<h1 style=\"background-color:#FFAA00;\">overall</h1>"
      ],
      "text/plain": [
       "<IPython.core.display.HTML object>"
      ]
     },
     "metadata": {},
     "output_type": "display_data"
    },
    {
     "data": {
      "text/plain": [
       "count    20473.000000\n",
       "mean         4.471841\n",
       "std          0.940337\n",
       "min          1.000000\n",
       "25%          4.000000\n",
       "50%          5.000000\n",
       "75%          5.000000\n",
       "max          5.000000\n",
       "Name: overall, dtype: float64"
      ]
     },
     "metadata": {},
     "output_type": "display_data"
    },
    {
     "data": {
      "text/html": [
       "<h1 style=\"background-color:#FFAA00;\">summary</h1>"
      ],
      "text/plain": [
       "<IPython.core.display.HTML object>"
      ]
     },
     "metadata": {},
     "output_type": "display_data"
    },
    {
     "data": {
      "text/plain": [
       "count          20473\n",
       "unique         17225\n",
       "top       Five Stars\n",
       "freq              95\n",
       "Name: summary, dtype: object"
      ]
     },
     "metadata": {},
     "output_type": "display_data"
    },
    {
     "data": {
      "text/html": [
       "<h1 style=\"background-color:#FFAA00;\">unixReviewTime</h1>"
      ],
      "text/plain": [
       "<IPython.core.display.HTML object>"
      ]
     },
     "metadata": {},
     "output_type": "display_data"
    },
    {
     "data": {
      "text/plain": [
       "count    2.047300e+04\n",
       "mean     1.365018e+09\n",
       "std      3.621266e+07\n",
       "min      1.121386e+09\n",
       "25%      1.354838e+09\n",
       "50%      1.373414e+09\n",
       "75%      1.390435e+09\n",
       "max      1.405901e+09\n",
       "Name: unixReviewTime, dtype: float64"
      ]
     },
     "metadata": {},
     "output_type": "display_data"
    },
    {
     "data": {
      "text/html": [
       "<h1 style=\"background-color:#FFAA00;\">reviewTime</h1>"
      ],
      "text/plain": [
       "<IPython.core.display.HTML object>"
      ]
     },
     "metadata": {},
     "output_type": "display_data"
    },
    {
     "data": {
      "text/plain": [
       "count          20473\n",
       "unique          1855\n",
       "top       07 8, 2014\n",
       "freq              82\n",
       "Name: reviewTime, dtype: object"
      ]
     },
     "metadata": {},
     "output_type": "display_data"
    }
   ],
   "source": [
    "for col in df.columns:\n",
    "    display(HTML('<h1 style=\"background-color:#FFAA00;\">' + col + '</h1>'))\n",
    "    display(df[col].describe())"
   ]
  },
  {
   "cell_type": "markdown",
   "metadata": {},
   "source": [
    "---\n",
    "Для дальнейшей работы нам потребуются только \"reviewerID\", \"asin\" и \"overall\", причём, переименуем их сразу в \"user\", \"item\" и \"rating\""
   ]
  },
  {
   "cell_type": "code",
   "execution_count": 4,
   "metadata": {},
   "outputs": [
    {
     "data": {
      "text/html": [
       "<div>\n",
       "<style scoped>\n",
       "    .dataframe tbody tr th:only-of-type {\n",
       "        vertical-align: middle;\n",
       "    }\n",
       "\n",
       "    .dataframe tbody tr th {\n",
       "        vertical-align: top;\n",
       "    }\n",
       "\n",
       "    .dataframe thead th {\n",
       "        text-align: right;\n",
       "    }\n",
       "</style>\n",
       "<table border=\"1\" class=\"dataframe\">\n",
       "  <thead>\n",
       "    <tr style=\"text-align: right;\">\n",
       "      <th></th>\n",
       "      <th>user</th>\n",
       "      <th>item</th>\n",
       "      <th>rating</th>\n",
       "    </tr>\n",
       "  </thead>\n",
       "  <tbody>\n",
       "    <tr>\n",
       "      <th>0</th>\n",
       "      <td>A3F73SC1LY51OO</td>\n",
       "      <td>B00002243X</td>\n",
       "      <td>5</td>\n",
       "    </tr>\n",
       "    <tr>\n",
       "      <th>1</th>\n",
       "      <td>A20S66SKYXULG2</td>\n",
       "      <td>B00002243X</td>\n",
       "      <td>4</td>\n",
       "    </tr>\n",
       "    <tr>\n",
       "      <th>2</th>\n",
       "      <td>A2I8LFSN2IS5EO</td>\n",
       "      <td>B00002243X</td>\n",
       "      <td>5</td>\n",
       "    </tr>\n",
       "    <tr>\n",
       "      <th>3</th>\n",
       "      <td>A3GT2EWQSO45ZG</td>\n",
       "      <td>B00002243X</td>\n",
       "      <td>5</td>\n",
       "    </tr>\n",
       "    <tr>\n",
       "      <th>4</th>\n",
       "      <td>A3ESWJPAVRPWB4</td>\n",
       "      <td>B00002243X</td>\n",
       "      <td>5</td>\n",
       "    </tr>\n",
       "  </tbody>\n",
       "</table>\n",
       "</div>"
      ],
      "text/plain": [
       "             user        item  rating\n",
       "0  A3F73SC1LY51OO  B00002243X       5\n",
       "1  A20S66SKYXULG2  B00002243X       4\n",
       "2  A2I8LFSN2IS5EO  B00002243X       5\n",
       "3  A3GT2EWQSO45ZG  B00002243X       5\n",
       "4  A3ESWJPAVRPWB4  B00002243X       5"
      ]
     },
     "execution_count": 4,
     "metadata": {},
     "output_type": "execute_result"
    }
   ],
   "source": [
    "df = df[[\"reviewerID\", \"asin\", \"overall\"]]\n",
    "df.columns = [\"user\", \"item\", \"rating\"]\n",
    "df.head()"
   ]
  },
  {
   "cell_type": "code",
   "execution_count": 5,
   "metadata": {},
   "outputs": [],
   "source": [
    "def short_description_of_filling(rankings: pd.DataFrame):\n",
    "    n_users = len(rankings[\"user\"].unique())\n",
    "    n_items = len(rankings[\"item\"].unique())\n",
    "    n_ratings = len(rankings)\n",
    "    print (\"Унакальных Пользователей:\", n_users)\n",
    "    print (\"Унакальных Товаров:\", n_items)\n",
    "    print (\"Выставленных оценок:\", n_ratings)\n",
    "    # Расчет доли заполнения оценками\n",
    "    print(\"Размер матрицы: {} x {}, Ячеек в матрице: {}, Будет заполнено: {:.3%}\".format (n_users, n_items, n_users * n_items, n_ratings / (n_users * n_items)))"
   ]
  },
  {
   "cell_type": "code",
   "execution_count": 6,
   "metadata": {},
   "outputs": [
    {
     "name": "stdout",
     "output_type": "stream",
     "text": [
      "Унакальных Пользователей: 2928\n",
      "Унакальных Товаров: 1835\n",
      "Выставленных оценок: 20473\n",
      "Размер матрицы: 2928 x 1835, Ячеек в матрице: 5372880, Будет заполнено: 0.381%\n"
     ]
    }
   ],
   "source": [
    "short_description_of_filling(df)"
   ]
  },
  {
   "cell_type": "code",
   "execution_count": 7,
   "metadata": {},
   "outputs": [
    {
     "data": {
      "image/png": "[encoded data removed]",
      "text/plain": [
       "<Figure size 576x396 with 1 Axes>"
      ]
     },
     "metadata": {},
     "output_type": "display_data"
    }
   ],
   "source": [
    "df.hist()\n",
    "plt.show()"
   ]
  },
  {
   "cell_type": "markdown",
   "metadata": {},
   "source": [
    "Большинство из выставленных оценок - это \"5\". Плохие оценки люди выставляют очень редко. Также замечено, что не существует оценок \"0\"."
   ]
  },
  {
   "cell_type": "markdown",
   "metadata": {},
   "source": [
    "## Выбор части исходной таблицы с пользователями, имеющими наибольшее кол-во оценок"
   ]
  },
  {
   "cell_type": "markdown",
   "metadata": {},
   "source": [
    "Изначальная заполненность таблицы очень маленькая. Из всех пользователей и фильмов выберем **n_users** пользователей с наибольшим кол-вом отзывов и из них **n_items** объектов с наибольшим кол-вом отзывов."
   ]
  },
  {
   "cell_type": "code",
   "execution_count": 8,
   "metadata": {},
   "outputs": [
    {
     "name": "stdout",
     "output_type": "stream",
     "text": [
      "Было 20473 элементов в DataFrame\n",
      "Стало 71 элементов в DataFrame\n",
      "----------------------------------------\n"
     ]
    },
    {
     "data": {
      "text/markdown": [
       "**Полученная таблица с наибольшим количеством отзывов:**"
      ],
      "text/plain": [
       "<IPython.core.display.Markdown object>"
      ]
     },
     "metadata": {},
     "output_type": "display_data"
    },
    {
     "name": "stdout",
     "output_type": "stream",
     "text": [
      "Унакальных Пользователей: 18\n",
      "Унакальных Товаров: 20\n",
      "Выставленных оценок: 71\n",
      "Размер матрицы: 18 x 20, Ячеек в матрице: 360, Будет заполнено: 19.722%\n"
     ]
    }
   ],
   "source": [
    "nUsers = 20\n",
    "nItems = 20\n",
    "\n",
    "mostActiveUsers = df[\"user\"].value_counts().head(nUsers).index\n",
    "dfNUsers = df[df[\"user\"].isin(mostActiveUsers)]\n",
    "mostActiveItems = dfNUsers[\"item\"].value_counts().head(nItems).index\n",
    "rankings = dfNUsers[dfNUsers[\"item\"].isin(mostActiveItems)].reset_index(drop=True)\n",
    "\n",
    "print(\"Было\", len(df), \"элементов в DataFrame\")\n",
    "print(\"Стало\", len(rankings), \"элементов в DataFrame\")\n",
    "print(\"-\"*40)\n",
    "display(Markdown(\"**Полученная таблица с наибольшим количеством отзывов:**\"))\n",
    "# display(rankings.head(3))\n",
    "short_description_of_filling(rankings)"
   ]
  },
  {
   "cell_type": "markdown",
   "metadata": {},
   "source": [
    "## Получение списка уникальных пользователей и товаров"
   ]
  },
  {
   "cell_type": "code",
   "execution_count": 9,
   "metadata": {},
   "outputs": [],
   "source": [
    "userUniqList=rankings[\"user\"].unique().tolist()\n",
    "userUniqList.sort()\n",
    "itemUniqList=rankings[\"item\"].unique().tolist()\n",
    "itemUniqList.sort()"
   ]
  },
  {
   "cell_type": "markdown",
   "metadata": {},
   "source": [
    "## Формирование матрицы R"
   ]
  },
  {
   "cell_type": "code",
   "execution_count": 10,
   "metadata": {},
   "outputs": [
    {
     "data": {
      "application/vnd.jupyter.widget-view+json": {
       "model_id": "b2d6775b0cdb4ef6983ba54d3fe10129",
       "version_major": 2,
       "version_minor": 0
      },
      "text/plain": [
       "HBox(children=(HTML(value=''), FloatProgress(value=0.0, max=71.0), HTML(value='')))"
      ]
     },
     "metadata": {},
     "output_type": "display_data"
    },
    {
     "name": "stdout",
     "output_type": "stream",
     "text": [
      "\n"
     ]
    }
   ],
   "source": [
    "# Создание матрицы нужной размерности\n",
    "dataMatrix=np.zeros((len(userUniqList), len(itemUniqList)))\n",
    "\n",
    "# Занесение оценок в матрицу\n",
    "for i in tqdm(rankings.index) :\n",
    "    line = rankings.loc[i, :]\n",
    "    userName = line[\"user\"]\n",
    "    itemName = line[\"item\"]\n",
    "    rate = float(line[\"rating\"])\n",
    "    # получить индекс ИД_пользователя/предмета в списке уникальных ИД\n",
    "    indexForUser = userUniqList.index(userName)\n",
    "    indexForItem = itemUniqList.index(itemName)\n",
    "    # Внести оценку\n",
    "    dataMatrix[indexForUser, indexForItem] = rate"
   ]
  },
  {
   "cell_type": "code",
   "execution_count": 11,
   "metadata": {},
   "outputs": [
    {
     "name": "stdout",
     "output_type": "stream",
     "text": [
      "Размер матрицы 18 x 20, Элементов 360, Будет заполнено 19.722222%\n"
     ]
    }
   ],
   "source": [
    "# Расчет доли заполнения оценками\n",
    "print(\"Размер матрицы {} x {}, Элементов {}, Будет заполнено {:%}\".format (\n",
    "    dataMatrix.shape[0], dataMatrix.shape[1],\n",
    "    dataMatrix.shape[0] * dataMatrix.shape[1],\n",
    "    len (rankings)/(dataMatrix.shape[0] * dataMatrix.shape[1])))"
   ]
  },
  {
   "cell_type": "markdown",
   "metadata": {},
   "source": [
    "## Вывод матрицы R в графическом виде"
   ]
  },
  {
   "cell_type": "code",
   "execution_count": 12,
   "metadata": {},
   "outputs": [],
   "source": [
    "# Вывод матрицы R в графическом виде\n",
    "from matplotlib import cm\n",
    "\n",
    "def visualizeR(dataMatrix, xlabel, ylabel, xlabelsList=None, ylabelsList=None, isAddTicks=False, autoFigsize=True):\n",
    "\n",
    "    # создание своей цветовой карты, с разделением на 5 участков по количеству оценок\n",
    "    myColorMap = cm.get_cmap('viridis', 5)\n",
    "\n",
    "    # создание полотна размером HхW\n",
    "    if autoFigsize:\n",
    "        plt.figure(figsize=(9, 6.5))\n",
    "\n",
    "    # отрисовка матрицы, применив цветовую карту\n",
    "    plt.imshow(dataMatrix, myColorMap)\n",
    "\n",
    "    # добавление названия осей\n",
    "    plt.xlabel(xlabel)\n",
    "    plt.ylabel(ylabel)\n",
    "\n",
    "\n",
    "    # добавление подписи осей\n",
    "    if isAddTicks:\n",
    "        plt.xticks( ticks=np.arange(len(xlabelsList)),\n",
    "                    labels=xlabelsList,\n",
    "                    rotation=20)\n",
    "\n",
    "        plt.yticks( ticks=np.arange(len(ylabelsList)),\n",
    "                    labels=ylabelsList,\n",
    "                    rotation=0)\n",
    "    else:\n",
    "        if(xlabelsList is not None):\n",
    "            plt.xticks(ticks=np.arange(0,len (xlabelsList)), labels=[])\n",
    "        else:\n",
    "            plt.xticks(ticks=[], labels=[])\n",
    "        if(xlabelsList is not None):\n",
    "            plt.yticks(ticks=np.arange(0,len (ylabelsList)), labels=[])\n",
    "        else:\n",
    "            plt.yticks(ticks=[], labels=[])\n",
    "\n",
    "    # добавление цветовой полосы\n",
    "    plt.colorbar()"
   ]
  },
  {
   "cell_type": "code",
   "execution_count": 13,
   "metadata": {},
   "outputs": [
    {
     "data": {
      "image/png": "[encoded data removed]",
      "text/plain": [
       "<Figure size 648x518.4 with 2 Axes>"
      ]
     },
     "metadata": {},
     "output_type": "display_data"
    }
   ],
   "source": [
    "# visualizeR(dataMatrix, \"Item\", \"User\", itemUniqList, userUniqList)\n",
    "\n",
    "# Транспонированная матрица R\n",
    "plt.figure(figsize=(9, 7.2))\n",
    "visualizeR(dataMatrix.T, \"User\", \"Item\", userUniqList, itemUniqList, autoFigsize=False)"
   ]
  },
  {
   "cell_type": "markdown",
   "metadata": {},
   "source": [
    "# Отыскание похожих пользователей"
   ]
  },
  {
   "cell_type": "markdown",
   "metadata": {},
   "source": [
    "В задании указывали, что функция схожести вычисляется только по тем объектам, которые оценили оба пользователя. Функция notUseZero позволяет учесть этот момент."
   ]
  },
  {
   "cell_type": "code",
   "execution_count": 14,
   "metadata": {},
   "outputs": [
    {
     "name": "stdout",
     "output_type": "stream",
     "text": [
      "test_notUseZero выполнен успешно\n"
     ]
    }
   ],
   "source": [
    "def notUseZero(x: np.array, y: np.array):\n",
    "    if (type(x) is not np.ndarray or type(y) is not np.ndarray):\n",
    "        x = np.array(x)\n",
    "        y = np.array(y)\n",
    "    else:\n",
    "        x = x.copy()\n",
    "        y = y.copy()\n",
    "    y[x == 0] = 0\n",
    "    x[y == 0] = 0\n",
    "    return x, y\n",
    "\n",
    "def test_notUseZero():\n",
    "    x = [1, 2, 0, 0]\n",
    "    y = [0, 3, 0, 1]\n",
    "    xExpected = [0, 2, 0, 0]\n",
    "    yExpected = [0, 3, 0, 0]\n",
    "    xReceived, yReceived = notUseZero(x, y)\n",
    "    assert (xExpected == xReceived).all(), \"X failed.\\n\\tExpected: {}\\n\\tReceived: {}\".format(xExpected, xReceived)\n",
    "    assert (yExpected == yReceived).all(), \"Y failed.\\n\\tExpected: {}\\n\\tReceived: {}\".format(yExpected, yReceived)\n",
    "    print(\"test_notUseZero выполнен успешно\")\n",
    "\n",
    "test_notUseZero()"
   ]
  },
  {
   "cell_type": "markdown",
   "metadata": {},
   "source": [
    "## Метрики"
   ]
  },
  {
   "cell_type": "code",
   "execution_count": 15,
   "metadata": {},
   "outputs": [
    {
     "name": "stdout",
     "output_type": "stream",
     "text": [
      "tests_distance выполнен успешно\n"
     ]
    }
   ],
   "source": [
    "def euclideDistance(x: np.array, y: np.array):\n",
    "    return sum((x - y)**2)**0.5\n",
    "\n",
    "def manhattanDistance(x: np.array, y: np.array):\n",
    "    return sum(abs(x - y))\n",
    "\n",
    "def pearson(x: np.array, y: np.array):\n",
    "    if ((np.max(x) == np.min(x)) or (np.max(y) == np.min(y))): # Один из векторов состоит только из одного значения\n",
    "        return 0\n",
    "    if (x == y).all():\n",
    "        return 1\n",
    "    return sum((x - x.mean()) * (y - y.mean())) / (sum(x**2 - x.mean()**2)**0.5 * sum(y**2 - y.mean()**2)**0.5)\n",
    "\n",
    "def jaccardDistance(x: np.array, y: np.array):\n",
    "    if (x == y).all():\n",
    "        return 1\n",
    "    return sum(np.minimum(x, y)) / sum(np.maximum(x, y))\n",
    "\n",
    "def cosinusDistance(x: np.array, y: np.array):\n",
    "    if (x == y).all():\n",
    "        return 1\n",
    "    xdoty = x.dot(y)\n",
    "    if (np.isclose(xdoty, 0)):\n",
    "        return 0\n",
    "    return x.dot(y) / (np.linalg.norm(x) * np.linalg.norm(y))\n",
    " \n",
    "\n",
    "def tests_distance():\n",
    "    # Проверка, на нулевом векторе\n",
    "    x = np.zeros(5)\n",
    "    assert np.isclose(euclideDistance(x, x), 0), \"euclideDistance, empty\"\n",
    "    assert np.isclose(manhattanDistance(x, x), 0), \"manhattanDistance, empty\"\n",
    "    assert np.isclose(pearson(x, x), 0), \"pearson, empty\"\n",
    "    assert np.isclose(jaccardDistance(x, x), 1), \"jaccardDistance, empty\"\n",
    "    assert np.isclose(cosinusDistance(x, x), 1), \"cosinusDistance, empty\"\n",
    "    \n",
    "    # Теперь то же самое (вектор сам с сабой), но вектор не нулевой\n",
    "    x = np.random.rand(5)\n",
    "    assert np.isclose(euclideDistance(x, x), 0), \"euclideDistance, вектор сам с сабой\"\n",
    "    assert np.isclose(manhattanDistance(x, x), 0), \"manhattanDistance, вектор сам с сабой\"\n",
    "    assert np.isclose(pearson(x, x), 1), \"pearson, вектор сам с сабой\"\n",
    "    assert np.isclose(jaccardDistance(x, x), 1), \"jaccardDistance, вектор сам с сабой\"\n",
    "    assert np.isclose(cosinusDistance(x, x), 1), \"cosinusDistance, вектор сам с сабой\"\n",
    "    \n",
    "    \n",
    "    x = np.array([1, 1])\n",
    "    y = np.array([0, 0])\n",
    "    assert np.isclose(euclideDistance(x, y), 2**0.5), \"euclideDistance, x={}, y={}\".format(x, y)\n",
    "    assert np.isclose(manhattanDistance(x, y), 2), \"manhattanDistance, x={}, y={}\".format(x, y)\n",
    "    assert np.isclose(pearson(x, y), 0), \"pearson, x={}, y={}\".format(x, y)\n",
    "    assert np.isclose(jaccardDistance(x, y), 0), \"jaccardDistance, x={}, y={}\".format(x, y)\n",
    "    assert np.isclose(cosinusDistance(x, y), 0), \"cosinusDistance, x={}, y={}\".format(x, y)\n",
    "    \n",
    "    x = np.array([0, 1])\n",
    "    y = np.array([1, 0])\n",
    "    assert np.isclose(euclideDistance(x, y), 2**0.5), \"euclideDistance, x={}, y={}\".format(x, y)\n",
    "    assert np.isclose(manhattanDistance(x, y), 2), \"manhattanDistance, x={}, y={}\".format(x, y)\n",
    "    assert np.isclose(pearson(x, y), -1), \"pearson, x={}, y={}\".format(x, y)\n",
    "    assert np.isclose(jaccardDistance(x, y), 0), \"jaccardDistance, x={}, y={}\".format(x, y)\n",
    "    assert np.isclose(cosinusDistance(x, y), 0), \"cosinusDistance, x={}, y={}\".format(x, y)\n",
    "    \n",
    "    print(\"tests_distance выполнен успешно\")\n",
    "    \n",
    "tests_distance()"
   ]
  },
  {
   "cell_type": "markdown",
   "metadata": {},
   "source": [
    "## Мера схожести sim\n",
    "Мера схожести равна 0, если объекты не схожи, и положительному числу (желательно 1), если схожи. Соответственно, чем ближе sim к 0, тем менее похожи объекты.\n",
    "\n",
    "Для меры Евклида и Манхэттенской меры сделали, как рекомендовали в notebook-примере. Для коэффициента корреляции Пирсона оставили, значение для положительной корреляции, для отрицательной - сделали sim=0. Для меры Жаккара можно ни чего не менять, так как у нас оценки положительные, то мера будет в диапазоне [0; 1]. Косинусная мера имеет 1, когда объекты совпадают; когда значения отрицательны, то сделали sim=0."
   ]
  },
  {
   "cell_type": "code",
   "execution_count": 19,
   "metadata": {},
   "outputs": [],
   "source": [
    "class Sim(object):\n",
    "    \n",
    "    def __init__(self, x: np.array, y: np.array):\n",
    "        self._x, self._y = notUseZero(x, y)\n",
    "        if ((self._x == 0).all() or (self._y == 0).all()): # В этом случае для всех способов sim будет 0\n",
    "            self._sim = 0\n",
    "        else : # Иначе придётся в дальнейшем вычислять\n",
    "            self._sim = self.simCalculate(x, y)\n",
    "        \n",
    "    @staticmethod\n",
    "    def simCalculate(x: np.array, y: np.array):\n",
    "        raise \"It's abstract method. You should override it\"\n",
    "      \n",
    "    @property\n",
    "    def sim(self):\n",
    "        return self._sim\n",
    "    \n",
    "\n",
    "class EuclideSim(Sim):\n",
    "    @staticmethod\n",
    "    def simCalculate(x: np.array, y: np.array):\n",
    "        return 1 / (1 + euclideDistance(x, y))\n",
    "    \n",
    "    \n",
    "class ManhattanSim(Sim):\n",
    "    @staticmethod\n",
    "    def simCalculate(x: np.array, y: np.array):\n",
    "        return 1 / (1 + manhattanDistance(x, y))\n",
    "\n",
    "\n",
    "class PearsonSim(Sim):\n",
    "    @staticmethod\n",
    "    def simCalculate(x: np.array, y: np.array):\n",
    "        s = pearson(x, y)\n",
    "        s = s if s < 0 else 0\n",
    "        return s\n",
    "\n",
    "    \n",
    "class JaccardSim(Sim):\n",
    "    @staticmethod\n",
    "    def simCalculate(x: np.array, y: np.array):\n",
    "        return jaccardDistance(x, y)\n",
    "        \n",
    "class CosinusSim(Sim):\n",
    "    @staticmethod\n",
    "    def simCalculate(x: np.array, y: np.array):\n",
    "        s = cosinusDistance(x, y)\n",
    "        s = s if s < 0 else 0\n",
    "        return s\n"
   ]
  },
  {
   "cell_type": "markdown",
   "metadata": {},
   "source": [
    "## Получение матрицы RSim\n",
    "Это будет квадратная, симметричная относительно главной диагонали таблица, в которой показаны sim для каждой пары сравниваемых субъектов/объектов. При этом, по диагонали будут нули (то есть, sim=0 для самого себя).\n",
    "\n",
    "*(Это немного отличается от пошагового задания, но конечный результат будет одинаковым).*"
   ]
  },
  {
   "cell_type": "code",
   "execution_count": 115,
   "metadata": {},
   "outputs": [
    {
     "data": {
      "text/markdown": [
       "**Пример RSim**"
      ],
      "text/plain": [
       "<IPython.core.display.Markdown object>"
      ]
     },
     "metadata": {},
     "output_type": "display_data"
    },
    {
     "name": "stdout",
     "output_type": "stream",
     "text": [
      "dataMatrix:\n"
     ]
    },
    {
     "data": {
      "text/plain": [
       "array([[1, 0, 1],\n",
       "       [1, 0, 1],\n",
       "       [1, 0, 0],\n",
       "       [5, 0, 0]])"
      ]
     },
     "metadata": {},
     "output_type": "display_data"
    },
    {
     "name": "stdout",
     "output_type": "stream",
     "text": [
      "labels: ['q', 'w', 'r', 't']\n",
      "SimClass: ManhattanSim\n",
      "RSim:\n"
     ]
    },
    {
     "data": {
      "text/html": [
       "<div>\n",
       "<style scoped>\n",
       "    .dataframe tbody tr th:only-of-type {\n",
       "        vertical-align: middle;\n",
       "    }\n",
       "\n",
       "    .dataframe tbody tr th {\n",
       "        vertical-align: top;\n",
       "    }\n",
       "\n",
       "    .dataframe thead th {\n",
       "        text-align: right;\n",
       "    }\n",
       "</style>\n",
       "<table border=\"1\" class=\"dataframe\">\n",
       "  <thead>\n",
       "    <tr style=\"text-align: right;\">\n",
       "      <th></th>\n",
       "      <th>q</th>\n",
       "      <th>w</th>\n",
       "      <th>r</th>\n",
       "      <th>t</th>\n",
       "    </tr>\n",
       "  </thead>\n",
       "  <tbody>\n",
       "    <tr>\n",
       "      <th>q</th>\n",
       "      <td>0.000000</td>\n",
       "      <td>1.000000</td>\n",
       "      <td>0.5</td>\n",
       "      <td>0.166667</td>\n",
       "    </tr>\n",
       "    <tr>\n",
       "      <th>w</th>\n",
       "      <td>1.000000</td>\n",
       "      <td>0.000000</td>\n",
       "      <td>0.5</td>\n",
       "      <td>0.166667</td>\n",
       "    </tr>\n",
       "    <tr>\n",
       "      <th>r</th>\n",
       "      <td>0.500000</td>\n",
       "      <td>0.500000</td>\n",
       "      <td>0.0</td>\n",
       "      <td>0.200000</td>\n",
       "    </tr>\n",
       "    <tr>\n",
       "      <th>t</th>\n",
       "      <td>0.166667</td>\n",
       "      <td>0.166667</td>\n",
       "      <td>0.2</td>\n",
       "      <td>0.000000</td>\n",
       "    </tr>\n",
       "  </tbody>\n",
       "</table>\n",
       "</div>"
      ],
      "text/plain": [
       "          q         w    r         t\n",
       "q  0.000000  1.000000  0.5  0.166667\n",
       "w  1.000000  0.000000  0.5  0.166667\n",
       "r  0.500000  0.500000  0.0  0.200000\n",
       "t  0.166667  0.166667  0.2  0.000000"
      ]
     },
     "metadata": {},
     "output_type": "display_data"
    }
   ],
   "source": [
    "def getRSim(dataMatrix, labels: list, SimClass):\n",
    "    \"\"\"\n",
    "        dataMatrix: матрица, строками которой являются сравниваемые объекты\n",
    "        labels: список имён сравниваемых объектов\n",
    "    return:\n",
    "        RSim: квадратная, симметричная относительно главной диагонали таблица, \n",
    "              в которой показаны sim для каждой пары сравниваемых объектов. При этом, по диагонали нули \n",
    "              (то есть, sim=0 для самого себя)\n",
    "    \"\"\"\n",
    "    RSim = pd.DataFrame(0, columns=labels, index=labels)\n",
    "    for i in range(len(labels) - 1):\n",
    "        for j in range(i + 1, len(labels)):\n",
    "            sim = SimClass(dataMatrix[i], dataMatrix[j])\n",
    "            RSim.iloc[i, j] = sim.sim\n",
    "    # Заполнили только для верхней части матрицы, теперь надо отразить относительно диагонали\n",
    "    RSim = RSim + RSim.T\n",
    "    return RSim\n",
    "\n",
    "def exampleRSim():\n",
    "    display(Markdown(\"**Пример RSim**\"))\n",
    "    dataMatrix = np.array([np.array([1, 0, 1]), np.array([1, 0, 1]), np.array([1, 0, 0]), np.array([5, 0, 0])])\n",
    "    print(\"dataMatrix:\")\n",
    "    display(dataMatrix)\n",
    "    labels = [\"q\", \"w\", \"r\", \"t\"]\n",
    "    print(\"labels: {}\".format(labels))\n",
    "    print(\"SimClass: ManhattanSim\")\n",
    "    print(\"RSim:\")\n",
    "    display(getRSim(dataMatrix, labels, ManhattanSim))\n",
    "    \n",
    "exampleRSim()"
   ]
  },
  {
   "cell_type": "markdown",
   "metadata": {},
   "source": [
    "## Получение списка отранжированных k-субъектов/объектов (схожих)"
   ]
  },
  {
   "cell_type": "markdown",
   "metadata": {},
   "source": [
    "Функция topMatches возвращает список отранжированных k-субъектов/объектов. В работе используется k=5. На входе в функцию передается DataFrame RSim, название субъекта/объекта, для которого происходит ранжирование и k. "
   ]
  },
  {
   "cell_type": "code",
   "execution_count": 130,
   "metadata": {},
   "outputs": [],
   "source": [
    "def topMatches(RSim, label, k=5):\n",
    "    \"\"\"\n",
    "        RSim: смотри getRSim\n",
    "        label: название субъекта/объекта, для которого происходит ранжирование\n",
    "        k: количество похожих субъектов/объектов\n",
    "    return:\n",
    "        list: не более k наиболее похожих на label субъектов/объектов\n",
    "    \"\"\"\n",
    "    resLabels = RSim.loc[label].sort_values(ascending=False)[:8]\n",
    "    resLabels = resLabels[resLabels != 0]\n",
    "    return resLabels"
   ]
  },
  {
   "cell_type": "markdown",
   "metadata": {},
   "source": [
    "# Прогноз на объекты без оценки"
   ]
  },
  {
   "cell_type": "markdown",
   "metadata": {},
   "source": [
    "Реализована функцию getRating, которая прогнозирует оценку пользователя для еще неоцененного им объекта. Функция использует результаты уже реализованной функции topMatches."
   ]
  },
  {
   "cell_type": "markdown",
   "metadata": {},
   "source": [
    "Для каждого отдельного нового объекта оценка = сумма взвешенных оценок/ сумму коэфф. схожести тех, кто оценил этот объект\n"
   ]
  },
  {
   "cell_type": "code",
   "execution_count": null,
   "metadata": {},
   "outputs": [],
   "source": []
  },
  {
   "cell_type": "markdown",
   "metadata": {},
   "source": [
    "# Протестировать качество алгоритма коллаборативной фильтрации"
   ]
  },
  {
   "cell_type": "markdown",
   "metadata": {},
   "source": [
    "- a. Реализуйте функцию calculate_error, которая позволяет рассчитать среднеквадратическую ошибку"
   ]
  },
  {
   "cell_type": "markdown",
   "metadata": {},
   "source": [
    "## Выбор пользователей и оценок для использования в качестве проверочных"
   ]
  },
  {
   "cell_type": "markdown",
   "metadata": {},
   "source": [
    "- b. Выбрать несколько (минимум 3-5) оценок из исходной матрицы R для использования в качестве проверочных при расчете среднеквадратической ошибки.\n",
    "    - i. Выберите субъекта(пользователя), для которого имеется наибольшее количество оценок объектов (при этом оценки должны  быть по объектам у которых есть не менее двух оценок от стороннего субъекта(пользователя).\n",
    "    - ii. Сохраните в отдельной структуре вектор оценок  выбранного субъекта(пользователя)\n",
    "    - iii. В исходной матрице R с оценками исключите 25-30%  значений для выбранного субъекта (заменить значение “0”). Если количество оценок мало, допустимо повторить процедуру для нескольких субъектов(пользователя) (Пример: исключить по одной оценке у трех пользователей)\n",
    "\n",
    "- c. Рассчитайте для новой матрицы с пропущенными значениями  (замененными на “0”) оценки с помощью разработанной рекомендательной системы. При этом убедитесь, что алгоритму достаточно входных данных для расчета. \n"
   ]
  },
  {
   "cell_type": "code",
   "execution_count": null,
   "metadata": {},
   "outputs": [],
   "source": []
  },
  {
   "cell_type": "code",
   "execution_count": null,
   "metadata": {},
   "outputs": [],
   "source": []
  },
  {
   "cell_type": "code",
   "execution_count": null,
   "metadata": {},
   "outputs": [],
   "source": []
  },
  {
   "cell_type": "markdown",
   "metadata": {},
   "source": [
    "# Выводы\n",
    "\n",
    "- f. Сделайте вывод по работе."
   ]
  },
  {
   "cell_type": "markdown",
   "metadata": {},
   "source": [
    "..."
   ]
  }
 ],
 "metadata": {
  "kernelspec": {
   "display_name": "Python 3",
   "language": "python",
   "name": "python3"
  },
  "language_info": {
   "codemirror_mode": {
    "name": "ipython",
    "version": 3
   },
   "file_extension": ".py",
   "mimetype": "text/x-python",
   "name": "python",
   "nbconvert_exporter": "python",
   "pygments_lexer": "ipython3",
   "version": "3.7.9"
  }
 },
 "nbformat": 4,
 "nbformat_minor": 4
}
